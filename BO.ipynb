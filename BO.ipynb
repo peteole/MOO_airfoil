{
 "cells": [
  {
   "cell_type": "code",
   "execution_count": 1,
   "metadata": {},
   "outputs": [
    {
     "data": {
      "text/plain": [
       "[1.51915, -0.138756]"
      ]
     },
     "execution_count": 1,
     "metadata": {},
     "output_type": "execute_result"
    }
   ],
   "source": [
    "import torch\n",
    "import io\n",
    "import os\n",
    "import json\n",
    "from botorch.models import SingleTaskGP, FixedNoiseGP\n",
    "from botorch.fit import fit_gpytorch_mll\n",
    "from botorch.acquisition.multi_objective import ExpectedHypervolumeImprovement\n",
    "from gpytorch.mlls import ExactMarginalLogLikelihood\n",
    "import asyncio\n",
    "dtype = torch.float64\n",
    "device = torch.device(\"cuda\" if torch.cuda.is_available() else \"cpu\")\n",
    "\n",
    "def x_to_filename(x):\n",
    "    return f'{x[0]}_{x[1]}_{x[2]}_{x[3]}.json'\n",
    "\n",
    "def filename_to_x(filename):\n",
    "    return [float(x) for x in filename[:-5].split('_')]\n",
    "\n",
    "async def evaluate_profile(x):\n",
    "    filename=x_to_filename(x)\n",
    "    #display(filename)\n",
    "    existing_result_files=os.listdir(\"case/results\")\n",
    "    existing_results_x=[filename_to_x(filename) for filename in existing_result_files]\n",
    "    distances=[torch.dist(torch.tensor(x),torch.tensor(existing_x)).item() for existing_x in existing_results_x]\n",
    "    #display(distances)\n",
    "    if len(distances)==0 or min(distances)>0.001:\n",
    "        config=json.dumps({\n",
    "            'p':x[0],\n",
    "            'm':x[1],\n",
    "            't':x[2],\n",
    "            'a':x[3]\n",
    "        })\n",
    "        p=await asyncio.create_subprocess_shell(f'cd case; ./evaluate_airfoil.sh \\'{config}\\'',stdout=asyncio.subprocess.PIPE)\n",
    "        await p.wait()\n",
    "        #os.system(f'cd case; ./evaluate_airfoil.sh \\'{config}\\'')\n",
    "    existing_result_files=os.listdir(\"case/results\")\n",
    "    existing_results_x=[filename_to_x(filename) for filename in existing_result_files]\n",
    "    distances=[torch.dist(torch.tensor(x),torch.tensor(existing_x)).item() for existing_x in existing_results_x]\n",
    "    min_distance_index=distances.index(min(distances))\n",
    "    with open(\"case/results/\"+existing_result_files[min_distance_index]) as file:\n",
    "        result=json.load(file)\n",
    "        #display(result)\n",
    "        return [result['C_L'],-result['C_D']]\n",
    "\n",
    "\n",
    "await evaluate_profile([0.42,0.05,0.18,15])"
   ]
  },
  {
   "cell_type": "code",
   "execution_count": 2,
   "metadata": {},
   "outputs": [
    {
     "data": {
      "text/plain": [
       "tensor([[ 8.0689e-01,  9.2401e-02,  2.9932e-01,  1.9360e+01],\n",
       "        [ 6.3175e-01, -1.1678e-01,  2.9775e-01,  2.2940e+01],\n",
       "        [ 2.9120e-01, -9.6189e-02,  1.5903e-01,  3.3380e+00],\n",
       "        [ 7.5052e-01,  7.4836e-02,  1.2825e-01,  3.0318e+00],\n",
       "        [ 7.4762e-01, -5.4062e-02,  1.6042e-01,  2.6191e+01],\n",
       "        [ 4.7161e-01, -4.6422e-02,  2.4731e-01,  3.1468e+00],\n",
       "        [ 5.1948e-01,  1.8119e-01,  1.9960e-01,  2.3379e+01],\n",
       "        [ 6.2255e-01,  2.0079e-02,  2.9891e-01,  7.4990e+00],\n",
       "        [ 7.1927e-01, -1.4612e-01,  1.9343e-01,  3.4736e+01],\n",
       "        [ 3.8250e-01, -1.6464e-01,  2.1305e-01,  1.6263e+01]],\n",
       "       dtype=torch.float64)"
      ]
     },
     "metadata": {},
     "output_type": "display_data"
    },
    {
     "name": "stderr",
     "output_type": "stream",
     "text": [
      "Warning : Extrusion of periodic curves is not supported with the built-in kernel\n",
      "Warning : Extrusion of periodic curves is not supported with the built-in kernel\n",
      "Warning : Extrusion of periodic curves is not supported with the built-in kernel\n",
      "Warning : Extrusion of periodic curves is not supported with the built-in kernel\n",
      "Warning : Extrusion of periodic curves is not supported with the built-in kernel\n",
      "Warning : Extrusion of periodic curves is not supported with the built-in kernel\n",
      "Warning : Extrusion of periodic curves is not supported with the built-in kernel\n",
      "Warning : Extrusion of periodic curves is not supported with the built-in kernel\n",
      "Warning : Extrusion of periodic curves is not supported with the built-in kernel\n",
      "Warning : Extrusion of periodic curves is not supported with the built-in kernel\n"
     ]
    }
   ],
   "source": [
    "x_lims=[(0.1,0.9),(-0.2,0.2),(0.05,0.3),(0.01,35)]\n",
    "\n",
    "random_initial_X=True\n",
    "INITIAL_X_COUNT=10\n",
    "initial_X = None\n",
    "if random_initial_X or len(os.listdir(\"case/results\"))<INITIAL_X_COUNT:\n",
    "    initial_X = torch.rand(INITIAL_X_COUNT,4, dtype=dtype, device=device)\n",
    "    for d in range(4):\n",
    "        initial_X[:,d]=x_lims[d][0]+initial_X[:,d]*(x_lims[d][1]-x_lims[d][0])\n",
    "else:\n",
    "    # get initial X from filenames in case/results folder\n",
    "    initial_X=torch.tensor([filename_to_x(filename) for filename in os.listdir(\"case/results\")],dtype=dtype,device=device)\n",
    "    # take six random points from the initial X\n",
    "    initial_X = initial_X[torch.randperm(initial_X.shape[0])[:INITIAL_X_COUNT]]\n",
    "\n",
    "display(initial_X)\n",
    "y=await asyncio.gather(*[evaluate_profile(x.tolist()) for x in initial_X])\n",
    "train_X=initial_X\n",
    "train_Y = torch.tensor(y,dtype=dtype,device=device)"
   ]
  },
  {
   "cell_type": "code",
   "execution_count": 3,
   "metadata": {},
   "outputs": [
    {
     "data": {
      "text/plain": [
       "tensor([[ 1.0000e-01, -2.0000e-01,  5.0000e-02,  1.0000e-02],\n",
       "        [ 9.0000e-01,  2.0000e-01,  3.0000e-01,  3.5000e+01]])"
      ]
     },
     "execution_count": 3,
     "metadata": {},
     "output_type": "execute_result"
    }
   ],
   "source": [
    "bounds = torch.stack([torch.tensor(x_lims)[:,0], torch.tensor(x_lims)[:,1]])\n",
    "bounds"
   ]
  },
  {
   "cell_type": "code",
   "execution_count": 4,
   "metadata": {},
   "outputs": [
    {
     "data": {
      "image/png": "[encoded data removed]",
      "text/plain": [
       "<Figure size 432x288 with 2 Axes>"
      ]
     },
     "metadata": {
      "needs_background": "light"
     },
     "output_type": "display_data"
    }
   ],
   "source": [
    "import plotting\n",
    "def get_fitted_model(train_X,train_Y):\n",
    "    train_Yvar = torch.full_like(train_Y, 0.01)\n",
    "    gp= FixedNoiseGP(train_X, train_Y, train_Yvar)\n",
    "    mll = ExactMarginalLogLikelihood(gp.likelihood, gp)\n",
    "    fit_gpytorch_mll(mll)\n",
    "    return gp\n",
    "\n",
    "model=get_fitted_model(train_X,train_Y)\n",
    "plotting.plot_model(model,[0.5,0.0,0.15,0],[0.5,0.0,0.15,30.0])"
   ]
  },
  {
   "cell_type": "code",
   "execution_count": 5,
   "metadata": {},
   "outputs": [
    {
     "name": "stderr",
     "output_type": "stream",
     "text": [
      "/home/olep/.local/lib/python3.10/site-packages/botorch/acquisition/multi_objective/analytic.py:131: UserWarning: To copy construct from a tensor, it is recommended to use sourceTensor.clone().detach() or sourceTensor.clone().detach().requires_grad_(True), rather than torch.tensor(sourceTensor).\n",
      "  ref_point = torch.tensor(\n"
     ]
    },
    {
     "name": "stdout",
     "output_type": "stream",
     "text": [
      "tensor([ 0.4938,  0.2000,  0.3000, 27.1446], dtype=torch.float64) :  tensor(0.0212, dtype=torch.float64)\n",
      "tensor([[ 2.5941, -0.1015]], dtype=torch.float64, grad_fn=<TransposeBackward0>) +- tensor([[0.1804, 0.1004]], dtype=torch.float64, grad_fn=<SqrtBackward0>)\n"
     ]
    },
    {
     "name": "stderr",
     "output_type": "stream",
     "text": [
      "Warning : Extrusion of periodic curves is not supported with the built-in kernel\n"
     ]
    },
    {
     "ename": "CancelledError",
     "evalue": "",
     "output_type": "error",
     "traceback": [
      "\u001b[0;31m---------------------------------------------------------------------------\u001b[0m",
      "\u001b[0;31mCancelledError\u001b[0m                            Traceback (most recent call last)",
      "\u001b[1;32m/home/olep/Documents/software/scientific/MOO_airfoil/BO.ipynb Cell 5\u001b[0m in \u001b[0;36m<cell line: 7>\u001b[0;34m()\u001b[0m\n\u001b[1;32m     <a href='vscode-notebook-cell:/home/olep/Documents/software/scientific/MOO_airfoil/BO.ipynb#W4sZmlsZQ%3D%3D?line=25'>26</a>\u001b[0m prediceted_Y_var\u001b[39m=\u001b[39mgp\u001b[39m.\u001b[39mposterior(candidate\u001b[39m.\u001b[39munsqueeze(\u001b[39m0\u001b[39m))\u001b[39m.\u001b[39mvariance\n\u001b[1;32m     <a href='vscode-notebook-cell:/home/olep/Documents/software/scientific/MOO_airfoil/BO.ipynb#W4sZmlsZQ%3D%3D?line=26'>27</a>\u001b[0m \u001b[39mprint\u001b[39m(predicted_Y,\u001b[39m\"\u001b[39m\u001b[39m+-\u001b[39m\u001b[39m\"\u001b[39m,prediceted_Y_var\u001b[39m.\u001b[39msqrt())\n\u001b[0;32m---> <a href='vscode-notebook-cell:/home/olep/Documents/software/scientific/MOO_airfoil/BO.ipynb#W4sZmlsZQ%3D%3D?line=27'>28</a>\u001b[0m actual_value\u001b[39m=\u001b[39m\u001b[39mawait\u001b[39;00m evaluate_profile(candidate\u001b[39m.\u001b[39mtolist())\n\u001b[1;32m     <a href='vscode-notebook-cell:/home/olep/Documents/software/scientific/MOO_airfoil/BO.ipynb#W4sZmlsZQ%3D%3D?line=28'>29</a>\u001b[0m \u001b[39mprint\u001b[39m(actual_value)\n\u001b[1;32m     <a href='vscode-notebook-cell:/home/olep/Documents/software/scientific/MOO_airfoil/BO.ipynb#W4sZmlsZQ%3D%3D?line=29'>30</a>\u001b[0m \u001b[39m# add new data to training data\u001b[39;00m\n",
      "\u001b[1;32m/home/olep/Documents/software/scientific/MOO_airfoil/BO.ipynb Cell 5\u001b[0m in \u001b[0;36mevaluate_profile\u001b[0;34m(x)\u001b[0m\n\u001b[1;32m     <a href='vscode-notebook-cell:/home/olep/Documents/software/scientific/MOO_airfoil/BO.ipynb#W4sZmlsZQ%3D%3D?line=26'>27</a>\u001b[0m     config\u001b[39m=\u001b[39mjson\u001b[39m.\u001b[39mdumps({\n\u001b[1;32m     <a href='vscode-notebook-cell:/home/olep/Documents/software/scientific/MOO_airfoil/BO.ipynb#W4sZmlsZQ%3D%3D?line=27'>28</a>\u001b[0m         \u001b[39m'\u001b[39m\u001b[39mp\u001b[39m\u001b[39m'\u001b[39m:x[\u001b[39m0\u001b[39m],\n\u001b[1;32m     <a href='vscode-notebook-cell:/home/olep/Documents/software/scientific/MOO_airfoil/BO.ipynb#W4sZmlsZQ%3D%3D?line=28'>29</a>\u001b[0m         \u001b[39m'\u001b[39m\u001b[39mm\u001b[39m\u001b[39m'\u001b[39m:x[\u001b[39m1\u001b[39m],\n\u001b[1;32m     <a href='vscode-notebook-cell:/home/olep/Documents/software/scientific/MOO_airfoil/BO.ipynb#W4sZmlsZQ%3D%3D?line=29'>30</a>\u001b[0m         \u001b[39m'\u001b[39m\u001b[39mt\u001b[39m\u001b[39m'\u001b[39m:x[\u001b[39m2\u001b[39m],\n\u001b[1;32m     <a href='vscode-notebook-cell:/home/olep/Documents/software/scientific/MOO_airfoil/BO.ipynb#W4sZmlsZQ%3D%3D?line=30'>31</a>\u001b[0m         \u001b[39m'\u001b[39m\u001b[39ma\u001b[39m\u001b[39m'\u001b[39m:x[\u001b[39m3\u001b[39m]\n\u001b[1;32m     <a href='vscode-notebook-cell:/home/olep/Documents/software/scientific/MOO_airfoil/BO.ipynb#W4sZmlsZQ%3D%3D?line=31'>32</a>\u001b[0m     })\n\u001b[1;32m     <a href='vscode-notebook-cell:/home/olep/Documents/software/scientific/MOO_airfoil/BO.ipynb#W4sZmlsZQ%3D%3D?line=32'>33</a>\u001b[0m     p\u001b[39m=\u001b[39m\u001b[39mawait\u001b[39;00m asyncio\u001b[39m.\u001b[39mcreate_subprocess_shell(\u001b[39mf\u001b[39m\u001b[39m'\u001b[39m\u001b[39mcd case; ./evaluate_airfoil.sh \u001b[39m\u001b[39m\\'\u001b[39;00m\u001b[39m{\u001b[39;00mconfig\u001b[39m}\u001b[39;00m\u001b[39m\\'\u001b[39;00m\u001b[39m'\u001b[39m,stdout\u001b[39m=\u001b[39masyncio\u001b[39m.\u001b[39msubprocess\u001b[39m.\u001b[39mPIPE)\n\u001b[0;32m---> <a href='vscode-notebook-cell:/home/olep/Documents/software/scientific/MOO_airfoil/BO.ipynb#W4sZmlsZQ%3D%3D?line=33'>34</a>\u001b[0m     \u001b[39mawait\u001b[39;00m p\u001b[39m.\u001b[39mwait()\n\u001b[1;32m     <a href='vscode-notebook-cell:/home/olep/Documents/software/scientific/MOO_airfoil/BO.ipynb#W4sZmlsZQ%3D%3D?line=34'>35</a>\u001b[0m     \u001b[39m#os.system(f'cd case; ./evaluate_airfoil.sh \\'{config}\\'')\u001b[39;00m\n\u001b[1;32m     <a href='vscode-notebook-cell:/home/olep/Documents/software/scientific/MOO_airfoil/BO.ipynb#W4sZmlsZQ%3D%3D?line=35'>36</a>\u001b[0m existing_result_files\u001b[39m=\u001b[39mos\u001b[39m.\u001b[39mlistdir(\u001b[39m\"\u001b[39m\u001b[39mcase/results\u001b[39m\u001b[39m\"\u001b[39m)\n",
      "File \u001b[0;32m/usr/lib/python3.10/asyncio/subprocess.py:134\u001b[0m, in \u001b[0;36mProcess.wait\u001b[0;34m(self)\u001b[0m\n\u001b[1;32m    132\u001b[0m \u001b[39masync\u001b[39;00m \u001b[39mdef\u001b[39;00m \u001b[39mwait\u001b[39m(\u001b[39mself\u001b[39m):\n\u001b[1;32m    133\u001b[0m     \u001b[39m\"\"\"Wait until the process exit and return the process return code.\"\"\"\u001b[39;00m\n\u001b[0;32m--> 134\u001b[0m     \u001b[39mreturn\u001b[39;00m \u001b[39mawait\u001b[39;00m \u001b[39mself\u001b[39m\u001b[39m.\u001b[39m_transport\u001b[39m.\u001b[39m_wait()\n",
      "File \u001b[0;32m/usr/lib/python3.10/asyncio/base_subprocess.py:235\u001b[0m, in \u001b[0;36mBaseSubprocessTransport._wait\u001b[0;34m(self)\u001b[0m\n\u001b[1;32m    233\u001b[0m waiter \u001b[39m=\u001b[39m \u001b[39mself\u001b[39m\u001b[39m.\u001b[39m_loop\u001b[39m.\u001b[39mcreate_future()\n\u001b[1;32m    234\u001b[0m \u001b[39mself\u001b[39m\u001b[39m.\u001b[39m_exit_waiters\u001b[39m.\u001b[39mappend(waiter)\n\u001b[0;32m--> 235\u001b[0m \u001b[39mreturn\u001b[39;00m \u001b[39mawait\u001b[39;00m waiter\n",
      "\u001b[0;31mCancelledError\u001b[0m: "
     ]
    }
   ],
   "source": [
    "\n",
    "from botorch.utils.multi_objective.box_decompositions.non_dominated import FastNondominatedPartitioning\n",
    "from botorch.acquisition import UpperConfidenceBound\n",
    "from botorch.optim import optimize_acqf\n",
    "#print(train_X)\n",
    "#print(train_Y)\n",
    "N_BATCH=3\n",
    "for iteration in range(1, N_BATCH + 1):\n",
    "    gp=get_fitted_model(train_X,train_Y)\n",
    "    #gp = SingleTaskGP(train_X, train_Y)\n",
    "    #test_X=torch.rand(1,4)\n",
    "    #print(test_X,\": \",gp.posterior(train_X).mean,\"+-\",gp.posterior(train_X).variance.sqrt())\n",
    "\n",
    "    #\n",
    "\n",
    "    #acquisition_function = UpperConfidenceBound(gp, beta=0.1)\n",
    "    partitioning=FastNondominatedPartitioning(ref_point=torch.tensor([0.0, 0.0]),Y=train_Y)\n",
    "    acquisition_function = ExpectedHypervolumeImprovement(\n",
    "        gp, ref_point=torch.tensor([0.0, 0.0]),\n",
    "        partitioning=partitioning)\n",
    "\n",
    "    candidate, acq_value = optimize_acqf(\n",
    "        acquisition_function, bounds=bounds, q=1, num_restarts=1, batch_initial_conditions=train_X\n",
    "    )\n",
    "    print(candidate,\": \",acq_value)\n",
    "    predicted_Y=gp.posterior(candidate.unsqueeze(0)).mean\n",
    "    prediceted_Y_var=gp.posterior(candidate.unsqueeze(0)).variance\n",
    "    print(predicted_Y,\"+-\",prediceted_Y_var.sqrt())\n",
    "    actual_value=await evaluate_profile(candidate.tolist())\n",
    "    print(actual_value)\n",
    "    # add new data to training data\n",
    "    train_X = torch.cat([train_X, candidate.unsqueeze(0)])\n",
    "    train_Y = torch.cat([train_Y, torch.tensor(actual_value,dtype=dtype,device=device).unsqueeze(0)])\n",
    "    #print(train_Y)\n"
   ]
  }
 ],
 "metadata": {
  "kernelspec": {
   "display_name": "Python 3",
   "language": "python",
   "name": "python3"
  },
  "language_info": {
   "codemirror_mode": {
    "name": "ipython",
    "version": 3
   },
   "file_extension": ".py",
   "mimetype": "text/x-python",
   "name": "python",
   "nbconvert_exporter": "python",
   "pygments_lexer": "ipython3",
   "version": "3.10.8"
  },
  "orig_nbformat": 4,
  "vscode": {
   "interpreter": {
    "hash": "e7370f93d1d0cde622a1f8e1c04877d8463912d04d973331ad4851f04de6915a"
   }
  }
 },
 "nbformat": 4,
 "nbformat_minor": 2
}

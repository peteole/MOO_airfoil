{
 "cells": [
  {
   "cell_type": "code",
   "execution_count": 1,
   "metadata": {},
   "outputs": [
    {
     "data": {
      "text/plain": [
       "[1.46527, 10.363321309852184]"
      ]
     },
     "execution_count": 1,
     "metadata": {},
     "output_type": "execute_result"
    }
   ],
   "source": [
    "import torch\n",
    "import io\n",
    "import os\n",
    "import json\n",
    "from botorch.models import SingleTaskGP, FixedNoiseGP\n",
    "from botorch.fit import fit_gpytorch_mll\n",
    "from botorch.acquisition.multi_objective import ExpectedHypervolumeImprovement\n",
    "from gpytorch.mlls import ExactMarginalLogLikelihood\n",
    "import asyncio\n",
    "dtype = torch.float64\n",
    "device = torch.device(\"cuda\" if torch.cuda.is_available() else \"cpu\")\n",
    "\n",
    "def x_to_filename(x):\n",
    "    return f'{x[0]}_{x[1]}_{x[2]}_{x[3]}.json'\n",
    "\n",
    "def filename_to_x(filename):\n",
    "    return [float(x) for x in filename[:-5].split('_')]\n",
    "\n",
    "async def evaluate_profile(x):\n",
    "    filename=x_to_filename(x)\n",
    "    #display(filename)\n",
    "    existing_result_files=os.listdir(\"case/results\")\n",
    "    existing_results_x=[filename_to_x(filename) for filename in existing_result_files]\n",
    "    distances=[torch.dist(torch.tensor(x),torch.tensor(existing_x)).item() for existing_x in existing_results_x]\n",
    "    #display(distances)\n",
    "    if len(distances)==0 or min(distances)>0.001:\n",
    "        config=json.dumps({\n",
    "            'p':x[0],\n",
    "            'm':x[1],\n",
    "            't':x[2],\n",
    "            'a':x[3]\n",
    "        })\n",
    "        p=await asyncio.create_subprocess_shell(f'cd case; ./evaluate_airfoil.sh \\'{config}\\'',stdout=asyncio.subprocess.PIPE)\n",
    "        await p.wait()\n",
    "        #os.system(f'cd case; ./evaluate_airfoil.sh \\'{config}\\'')\n",
    "    existing_result_files=os.listdir(\"case/results\")\n",
    "    existing_results_x=[filename_to_x(filename) for filename in existing_result_files]\n",
    "    distances=[torch.dist(torch.tensor(x),torch.tensor(existing_x)).item() for existing_x in existing_results_x]\n",
    "    min_distance_index=distances.index(min(distances))\n",
    "    with open(\"case/results/\"+existing_result_files[min_distance_index]) as file:\n",
    "        result=json.load(file)\n",
    "        #display(result)\n",
    "        return [result['C_L'],result['C_L']/result['C_D']]\n",
    "\n",
    "\n",
    "await evaluate_profile([0.42,0.05,0.18,14])"
   ]
  },
  {
   "cell_type": "code",
   "execution_count": 2,
   "metadata": {},
   "outputs": [
    {
     "data": {
      "text/plain": [
       "tensor([[ 5.5993e-01, -1.0800e-01,  7.7441e-02,  1.4749e+00],\n",
       "        [ 4.0627e-01,  1.8807e-01,  1.8981e-01,  2.9996e+01],\n",
       "        [ 6.1835e-01,  2.0245e-02,  1.4874e-01,  1.7709e+01],\n",
       "        [ 4.7920e-01,  1.3469e-01,  1.8289e-01,  4.4725e+00],\n",
       "        [ 4.2076e-01,  1.1872e-01,  1.0441e-01,  1.7589e+01],\n",
       "        [ 8.9952e-01,  6.4930e-02,  1.0033e-01,  1.9243e+01],\n",
       "        [ 3.2282e-01,  1.8458e-01,  2.5453e-01,  1.4915e+01],\n",
       "        [ 7.3067e-01, -3.8997e-02,  2.7854e-01,  1.7882e+01],\n",
       "        [ 4.8460e-01,  5.3158e-02,  9.4846e-02,  2.5006e+01],\n",
       "        [ 7.7283e-01,  1.6549e-01,  1.5692e-01,  2.6990e+01],\n",
       "        [ 4.5826e-01, -1.4955e-01,  1.5524e-01,  2.6218e+01],\n",
       "        [ 5.8279e-01, -9.5630e-02,  2.3217e-01,  8.1742e+00],\n",
       "        [ 8.1951e-01,  1.6133e-01,  1.0830e-01,  1.1918e+01],\n",
       "        [ 7.7716e-01, -1.9350e-01,  2.9877e-01,  2.7218e+01],\n",
       "        [ 5.4772e-01,  9.6025e-02,  1.6167e-01,  1.7874e+01],\n",
       "        [ 6.7883e-01,  8.7365e-02,  1.0580e-01,  2.8663e+01],\n",
       "        [ 4.8197e-01,  1.2346e-01,  9.6808e-02,  1.0941e+00],\n",
       "        [ 2.8354e-01,  4.0564e-02,  2.7812e-01,  2.0166e+01],\n",
       "        [ 5.8647e-01,  9.8468e-02,  1.0560e-01,  2.2241e+01],\n",
       "        [ 1.9659e-01,  1.4200e-02,  1.7470e-01,  8.6147e-02]],\n",
       "       dtype=torch.float64)"
      ]
     },
     "metadata": {},
     "output_type": "display_data"
    },
    {
     "name": "stderr",
     "output_type": "stream",
     "text": [
      "Warning : Extrusion of periodic curves is not supported with the built-in kernel\n",
      "Warning : Extrusion of periodic curves is not supported with the built-in kernel\n",
      "Warning : Extrusion of periodic curves is not supported with the built-in kernel\n",
      "Warning : Extrusion of periodic curves is not supported with the built-in kernel\n",
      "Warning : Extrusion of periodic curves is not supported with the built-in kernel\n",
      "Warning : Extrusion of periodic curves is not supported with the built-in kernel\n",
      "Warning : Extrusion of periodic curves is not supported with the built-in kernel\n",
      "Warning : Extrusion of periodic curves is not supported with the built-in kernel\n",
      "Warning : Extrusion of periodic curves is not supported with the built-in kernel\n",
      "Warning : Extrusion of periodic curves is not supported with the built-in kernel\n",
      "Warning : Extrusion of periodic curves is not supported with the built-in kernel\n",
      "Warning : Extrusion of periodic curves is not supported with the built-in kernel\n",
      "Warning : Extrusion of periodic curves is not supported with the built-in kernel\n",
      "Warning : Extrusion of periodic curves is not supported with the built-in kernel\n",
      "Warning : Extrusion of periodic curves is not supported with the built-in kernel\n",
      "Warning : Extrusion of periodic curves is not supported with the built-in kernel\n",
      "Warning : Extrusion of periodic curves is not supported with the built-in kernel\n",
      "Warning : Extrusion of periodic curves is not supported with the built-in kernel\n",
      "Warning : Extrusion of periodic curves is not supported with the built-in kernel\n",
      "Warning : Extrusion of periodic curves is not supported with the built-in kernel\n",
      "Warning : Cannot apply Blossom: odd number of triangles (116999) in surface 1\n",
      "Warning : Cannot apply Blossom: odd number of triangles (144869) in surface 1\n",
      "Warning : ------------------------------\n",
      "Warning : Mesh generation error summary\n",
      "Warning :     1 warning\n",
      "Warning :     0 errors\n",
      "Warning : Check the full log for details\n",
      "Warning : ------------------------------\n",
      "Warning : ------------------------------\n",
      "Warning : Mesh generation error summary\n",
      "Warning :     1 warning\n",
      "Warning :     0 errors\n",
      "Warning : Check the full log for details\n",
      "Warning : ------------------------------\n",
      "/opt/OpenFOAM/OpenFOAM-10/bin/tools/RunFunctions: line 53: 141065 Floating point exception(core dumped) $APP_RUN \"$@\" > log.$LOG_SUFFIX 2>&1\n",
      "/opt/OpenFOAM/OpenFOAM-10/bin/tools/RunFunctions: line 53: 138687 Segmentation fault      (core dumped) $APP_RUN \"$@\" > log.$LOG_SUFFIX 2>&1\n",
      "/opt/OpenFOAM/OpenFOAM-10/bin/tools/RunFunctions: line 53: 146028 Segmentation fault      (core dumped) $APP_RUN \"$@\" > log.$LOG_SUFFIX 2>&1\n",
      "/opt/OpenFOAM/OpenFOAM-10/bin/tools/RunFunctions: line 53: 151992 Segmentation fault      (core dumped) $APP_RUN \"$@\" > log.$LOG_SUFFIX 2>&1\n",
      "/opt/OpenFOAM/OpenFOAM-10/bin/tools/RunFunctions: line 53: 152806 Segmentation fault      (core dumped) $APP_RUN \"$@\" > log.$LOG_SUFFIX 2>&1\n"
     ]
    }
   ],
   "source": [
    "x_lims=[(0.1,0.9),(-0.2,0.2),(0.05,0.3),(0.01,35)]\n",
    "\n",
    "random_initial_X=True\n",
    "INITIAL_X_COUNT=20\n",
    "initial_X = None\n",
    "if random_initial_X or len(os.listdir(\"case/results\"))<INITIAL_X_COUNT:\n",
    "    initial_X = torch.rand(INITIAL_X_COUNT,4, dtype=dtype, device=device)\n",
    "    for d in range(4):\n",
    "        initial_X[:,d]=x_lims[d][0]+initial_X[:,d]*(x_lims[d][1]-x_lims[d][0])\n",
    "else:\n",
    "    # get initial X from filenames in case/results folder\n",
    "    initial_X=torch.tensor([filename_to_x(filename) for filename in os.listdir(\"case/results\")],dtype=dtype,device=device)\n",
    "    # take six random points from the initial X\n",
    "    initial_X = initial_X[torch.randperm(initial_X.shape[0])[:INITIAL_X_COUNT]]\n",
    "\n",
    "display(initial_X)\n",
    "y=await asyncio.gather(*[evaluate_profile(x.tolist()) for x in initial_X])\n",
    "train_X=initial_X\n",
    "train_Y = torch.tensor(y,dtype=dtype,device=device)"
   ]
  },
  {
   "cell_type": "code",
   "execution_count": 3,
   "metadata": {},
   "outputs": [
    {
     "data": {
      "text/plain": [
       "tensor([[ 1.0000e-01, -2.0000e-01,  5.0000e-02,  1.0000e-02],\n",
       "        [ 9.0000e-01,  2.0000e-01,  3.0000e-01,  3.5000e+01]])"
      ]
     },
     "execution_count": 3,
     "metadata": {},
     "output_type": "execute_result"
    }
   ],
   "source": [
    "bounds = torch.stack([torch.tensor(x_lims)[:,0], torch.tensor(x_lims)[:,1]])\n",
    "bounds"
   ]
  },
  {
   "cell_type": "code",
   "execution_count": 4,
   "metadata": {},
   "outputs": [
    {
     "ename": "ModelFittingError",
     "evalue": "All attempts to fit the model have failed.",
     "output_type": "error",
     "traceback": [
      "\u001b[0;31m---------------------------------------------------------------------------\u001b[0m",
      "\u001b[0;31mMDNotImplementedError\u001b[0m                     Traceback (most recent call last)",
      "File \u001b[0;32m~/.local/lib/python3.10/site-packages/botorch/utils/dispatcher.py:88\u001b[0m, in \u001b[0;36mDispatcher.__call__\u001b[0;34m(self, *args, **kwargs)\u001b[0m\n\u001b[1;32m     87\u001b[0m \u001b[39mtry\u001b[39;00m:\n\u001b[0;32m---> 88\u001b[0m     \u001b[39mreturn\u001b[39;00m func(\u001b[39m*\u001b[39;49margs, \u001b[39m*\u001b[39;49m\u001b[39m*\u001b[39;49mkwargs)\n\u001b[1;32m     89\u001b[0m \u001b[39mexcept\u001b[39;00m MDNotImplementedError:\n\u001b[1;32m     90\u001b[0m     \u001b[39m# Traverses registered methods in order, yields whenever a match is found\u001b[39;00m\n",
      "File \u001b[0;32m~/.local/lib/python3.10/site-packages/botorch/fit.py:320\u001b[0m, in \u001b[0;36m_fit_multioutput_independent\u001b[0;34m(mll, _, __, sequential, **kwargs)\u001b[0m\n\u001b[1;32m    315\u001b[0m \u001b[39mif\u001b[39;00m (  \u001b[39m# incompatible models\u001b[39;00m\n\u001b[1;32m    316\u001b[0m     \u001b[39mnot\u001b[39;00m sequential\n\u001b[1;32m    317\u001b[0m     \u001b[39mor\u001b[39;00m mll\u001b[39m.\u001b[39mmodel\u001b[39m.\u001b[39mnum_outputs \u001b[39m==\u001b[39m \u001b[39m1\u001b[39m\n\u001b[1;32m    318\u001b[0m     \u001b[39mor\u001b[39;00m mll\u001b[39m.\u001b[39mlikelihood \u001b[39mis\u001b[39;00m \u001b[39mnot\u001b[39;00m \u001b[39mgetattr\u001b[39m(mll\u001b[39m.\u001b[39mmodel, \u001b[39m\"\u001b[39m\u001b[39mlikelihood\u001b[39m\u001b[39m\"\u001b[39m, \u001b[39mNone\u001b[39;00m)\n\u001b[1;32m    319\u001b[0m ):\n\u001b[0;32m--> 320\u001b[0m     \u001b[39mraise\u001b[39;00m MDNotImplementedError  \u001b[39m# defer to generic\u001b[39;00m\n\u001b[1;32m    322\u001b[0m \u001b[39m# TODO: Unpacking of OutcomeTransforms not yet supported. Targets are often\u001b[39;00m\n\u001b[1;32m    323\u001b[0m \u001b[39m# pre-transformed in __init__, so try fitting with outcome_transform hidden\u001b[39;00m\n",
      "\u001b[0;31mMDNotImplementedError\u001b[0m: ",
      "\nDuring handling of the above exception, another exception occurred:\n",
      "\u001b[0;31mModelFittingError\u001b[0m                         Traceback (most recent call last)",
      "\u001b[1;32m/home/olep/Documents/software/scientific/MOO_airfoil/BO.ipynb Cell 4\u001b[0m in \u001b[0;36m<cell line: 9>\u001b[0;34m()\u001b[0m\n\u001b[1;32m      <a href='vscode-notebook-cell:/home/olep/Documents/software/scientific/MOO_airfoil/BO.ipynb#W4sZmlsZQ%3D%3D?line=5'>6</a>\u001b[0m     fit_gpytorch_mll(mll)\n\u001b[1;32m      <a href='vscode-notebook-cell:/home/olep/Documents/software/scientific/MOO_airfoil/BO.ipynb#W4sZmlsZQ%3D%3D?line=6'>7</a>\u001b[0m     \u001b[39mreturn\u001b[39;00m gp\n\u001b[0;32m----> <a href='vscode-notebook-cell:/home/olep/Documents/software/scientific/MOO_airfoil/BO.ipynb#W4sZmlsZQ%3D%3D?line=8'>9</a>\u001b[0m model\u001b[39m=\u001b[39mget_fitted_model(train_X,train_Y)\n\u001b[1;32m     <a href='vscode-notebook-cell:/home/olep/Documents/software/scientific/MOO_airfoil/BO.ipynb#W4sZmlsZQ%3D%3D?line=9'>10</a>\u001b[0m plotting\u001b[39m.\u001b[39mplot_model(model,[\u001b[39m0.4\u001b[39m,\u001b[39m0.05\u001b[39m,\u001b[39m0.12\u001b[39m,\u001b[39m-\u001b[39m\u001b[39m30\u001b[39m],[\u001b[39m0.4\u001b[39m,\u001b[39m0.05\u001b[39m,\u001b[39m0.12\u001b[39m,\u001b[39m30.0\u001b[39m])\n",
      "\u001b[1;32m/home/olep/Documents/software/scientific/MOO_airfoil/BO.ipynb Cell 4\u001b[0m in \u001b[0;36mget_fitted_model\u001b[0;34m(train_X, train_Y)\u001b[0m\n\u001b[1;32m      <a href='vscode-notebook-cell:/home/olep/Documents/software/scientific/MOO_airfoil/BO.ipynb#W4sZmlsZQ%3D%3D?line=3'>4</a>\u001b[0m gp\u001b[39m=\u001b[39m FixedNoiseGP(train_X, train_Y, train_Yvar)\n\u001b[1;32m      <a href='vscode-notebook-cell:/home/olep/Documents/software/scientific/MOO_airfoil/BO.ipynb#W4sZmlsZQ%3D%3D?line=4'>5</a>\u001b[0m mll \u001b[39m=\u001b[39m ExactMarginalLogLikelihood(gp\u001b[39m.\u001b[39mlikelihood, gp)\n\u001b[0;32m----> <a href='vscode-notebook-cell:/home/olep/Documents/software/scientific/MOO_airfoil/BO.ipynb#W4sZmlsZQ%3D%3D?line=5'>6</a>\u001b[0m fit_gpytorch_mll(mll)\n\u001b[1;32m      <a href='vscode-notebook-cell:/home/olep/Documents/software/scientific/MOO_airfoil/BO.ipynb#W4sZmlsZQ%3D%3D?line=6'>7</a>\u001b[0m \u001b[39mreturn\u001b[39;00m gp\n",
      "File \u001b[0;32m~/.local/lib/python3.10/site-packages/botorch/fit.py:114\u001b[0m, in \u001b[0;36mfit_gpytorch_mll\u001b[0;34m(mll, optimizer, optimizer_kwargs, **kwargs)\u001b[0m\n\u001b[1;32m    111\u001b[0m \u001b[39mif\u001b[39;00m optimizer \u001b[39mis\u001b[39;00m \u001b[39mnot\u001b[39;00m \u001b[39mNone\u001b[39;00m:  \u001b[39m# defer to per-method defaults\u001b[39;00m\n\u001b[1;32m    112\u001b[0m     kwargs[\u001b[39m\"\u001b[39m\u001b[39moptimizer\u001b[39m\u001b[39m\"\u001b[39m] \u001b[39m=\u001b[39m optimizer\n\u001b[0;32m--> 114\u001b[0m \u001b[39mreturn\u001b[39;00m dispatcher(\n\u001b[1;32m    115\u001b[0m     mll,\n\u001b[1;32m    116\u001b[0m     \u001b[39mtype\u001b[39;49m(mll\u001b[39m.\u001b[39;49mlikelihood),\n\u001b[1;32m    117\u001b[0m     \u001b[39mtype\u001b[39;49m(mll\u001b[39m.\u001b[39;49mmodel),\n\u001b[1;32m    118\u001b[0m     optimizer_kwargs\u001b[39m=\u001b[39;49moptimizer_kwargs,\n\u001b[1;32m    119\u001b[0m     \u001b[39m*\u001b[39;49m\u001b[39m*\u001b[39;49mkwargs,\n\u001b[1;32m    120\u001b[0m )\n",
      "File \u001b[0;32m~/.local/lib/python3.10/site-packages/botorch/utils/dispatcher.py:88\u001b[0m, in \u001b[0;36mDispatcher.__call__\u001b[0;34m(self, *args, **kwargs)\u001b[0m\n\u001b[1;32m     86\u001b[0m func \u001b[39m=\u001b[39m \u001b[39mself\u001b[39m\u001b[39m.\u001b[39m\u001b[39m__getitem__\u001b[39m(types\u001b[39m=\u001b[39mtypes)\n\u001b[1;32m     87\u001b[0m \u001b[39mtry\u001b[39;00m:\n\u001b[0;32m---> 88\u001b[0m     \u001b[39mreturn\u001b[39;00m func(\u001b[39m*\u001b[39;49margs, \u001b[39m*\u001b[39;49m\u001b[39m*\u001b[39;49mkwargs)\n\u001b[1;32m     89\u001b[0m \u001b[39mexcept\u001b[39;00m MDNotImplementedError:\n\u001b[1;32m     90\u001b[0m     \u001b[39m# Traverses registered methods in order, yields whenever a match is found\u001b[39;00m\n\u001b[1;32m     91\u001b[0m     funcs \u001b[39m=\u001b[39m \u001b[39mself\u001b[39m\u001b[39m.\u001b[39mdispatch_iter(\u001b[39m*\u001b[39mtypes)\n",
      "File \u001b[0;32m~/.local/lib/python3.10/site-packages/botorch/fit.py:338\u001b[0m, in \u001b[0;36m_fit_multioutput_independent\u001b[0;34m(mll, _, __, sequential, **kwargs)\u001b[0m\n\u001b[1;32m    333\u001b[0m     \u001b[39mraise\u001b[39;00m \u001b[39mRuntimeError\u001b[39;00m(  \u001b[39m# validate model unpacking\u001b[39;00m\n\u001b[1;32m    334\u001b[0m         \u001b[39m\"\u001b[39m\u001b[39mTraining loss of unpacked model differs from that of the original.\u001b[39m\u001b[39m\"\u001b[39m\n\u001b[1;32m    335\u001b[0m     )\n\u001b[1;32m    337\u001b[0m \u001b[39m# Fit submodels independently\u001b[39;00m\n\u001b[0;32m--> 338\u001b[0m unpacked_mll \u001b[39m=\u001b[39m fit_gpytorch_mll(unpacked_mll, \u001b[39m*\u001b[39;49m\u001b[39m*\u001b[39;49mkwargs)\n\u001b[1;32m    340\u001b[0m \u001b[39m# Repackage submodels and copy over state_dict\u001b[39;00m\n\u001b[1;32m    341\u001b[0m repacked_model \u001b[39m=\u001b[39m model_list_to_batched(unpacked_mll\u001b[39m.\u001b[39mmodel\u001b[39m.\u001b[39mtrain())\n",
      "File \u001b[0;32m~/.local/lib/python3.10/site-packages/botorch/fit.py:114\u001b[0m, in \u001b[0;36mfit_gpytorch_mll\u001b[0;34m(mll, optimizer, optimizer_kwargs, **kwargs)\u001b[0m\n\u001b[1;32m    111\u001b[0m \u001b[39mif\u001b[39;00m optimizer \u001b[39mis\u001b[39;00m \u001b[39mnot\u001b[39;00m \u001b[39mNone\u001b[39;00m:  \u001b[39m# defer to per-method defaults\u001b[39;00m\n\u001b[1;32m    112\u001b[0m     kwargs[\u001b[39m\"\u001b[39m\u001b[39moptimizer\u001b[39m\u001b[39m\"\u001b[39m] \u001b[39m=\u001b[39m optimizer\n\u001b[0;32m--> 114\u001b[0m \u001b[39mreturn\u001b[39;00m dispatcher(\n\u001b[1;32m    115\u001b[0m     mll,\n\u001b[1;32m    116\u001b[0m     \u001b[39mtype\u001b[39;49m(mll\u001b[39m.\u001b[39;49mlikelihood),\n\u001b[1;32m    117\u001b[0m     \u001b[39mtype\u001b[39;49m(mll\u001b[39m.\u001b[39;49mmodel),\n\u001b[1;32m    118\u001b[0m     optimizer_kwargs\u001b[39m=\u001b[39;49moptimizer_kwargs,\n\u001b[1;32m    119\u001b[0m     \u001b[39m*\u001b[39;49m\u001b[39m*\u001b[39;49mkwargs,\n\u001b[1;32m    120\u001b[0m )\n",
      "File \u001b[0;32m~/.local/lib/python3.10/site-packages/botorch/utils/dispatcher.py:88\u001b[0m, in \u001b[0;36mDispatcher.__call__\u001b[0;34m(self, *args, **kwargs)\u001b[0m\n\u001b[1;32m     86\u001b[0m func \u001b[39m=\u001b[39m \u001b[39mself\u001b[39m\u001b[39m.\u001b[39m\u001b[39m__getitem__\u001b[39m(types\u001b[39m=\u001b[39mtypes)\n\u001b[1;32m     87\u001b[0m \u001b[39mtry\u001b[39;00m:\n\u001b[0;32m---> 88\u001b[0m     \u001b[39mreturn\u001b[39;00m func(\u001b[39m*\u001b[39;49margs, \u001b[39m*\u001b[39;49m\u001b[39m*\u001b[39;49mkwargs)\n\u001b[1;32m     89\u001b[0m \u001b[39mexcept\u001b[39;00m MDNotImplementedError:\n\u001b[1;32m     90\u001b[0m     \u001b[39m# Traverses registered methods in order, yields whenever a match is found\u001b[39;00m\n\u001b[1;32m     91\u001b[0m     funcs \u001b[39m=\u001b[39m \u001b[39mself\u001b[39m\u001b[39m.\u001b[39mdispatch_iter(\u001b[39m*\u001b[39mtypes)\n",
      "File \u001b[0;32m~/.local/lib/python3.10/site-packages/botorch/fit.py:289\u001b[0m, in \u001b[0;36m_fit_list\u001b[0;34m(mll, _, __, **kwargs)\u001b[0m\n\u001b[1;32m    287\u001b[0m mll\u001b[39m.\u001b[39mtrain()\n\u001b[1;32m    288\u001b[0m \u001b[39mfor\u001b[39;00m sub_mll \u001b[39min\u001b[39;00m mll\u001b[39m.\u001b[39mmlls:\n\u001b[0;32m--> 289\u001b[0m     fit_gpytorch_mll(sub_mll, \u001b[39m*\u001b[39;49m\u001b[39m*\u001b[39;49mkwargs)\n\u001b[1;32m    291\u001b[0m \u001b[39mreturn\u001b[39;00m mll\u001b[39m.\u001b[39meval() \u001b[39mif\u001b[39;00m \u001b[39mnot\u001b[39;00m \u001b[39many\u001b[39m(sub_mll\u001b[39m.\u001b[39mtraining \u001b[39mfor\u001b[39;00m sub_mll \u001b[39min\u001b[39;00m mll\u001b[39m.\u001b[39mmlls) \u001b[39melse\u001b[39;00m mll\n",
      "File \u001b[0;32m~/.local/lib/python3.10/site-packages/botorch/fit.py:114\u001b[0m, in \u001b[0;36mfit_gpytorch_mll\u001b[0;34m(mll, optimizer, optimizer_kwargs, **kwargs)\u001b[0m\n\u001b[1;32m    111\u001b[0m \u001b[39mif\u001b[39;00m optimizer \u001b[39mis\u001b[39;00m \u001b[39mnot\u001b[39;00m \u001b[39mNone\u001b[39;00m:  \u001b[39m# defer to per-method defaults\u001b[39;00m\n\u001b[1;32m    112\u001b[0m     kwargs[\u001b[39m\"\u001b[39m\u001b[39moptimizer\u001b[39m\u001b[39m\"\u001b[39m] \u001b[39m=\u001b[39m optimizer\n\u001b[0;32m--> 114\u001b[0m \u001b[39mreturn\u001b[39;00m dispatcher(\n\u001b[1;32m    115\u001b[0m     mll,\n\u001b[1;32m    116\u001b[0m     \u001b[39mtype\u001b[39;49m(mll\u001b[39m.\u001b[39;49mlikelihood),\n\u001b[1;32m    117\u001b[0m     \u001b[39mtype\u001b[39;49m(mll\u001b[39m.\u001b[39;49mmodel),\n\u001b[1;32m    118\u001b[0m     optimizer_kwargs\u001b[39m=\u001b[39;49moptimizer_kwargs,\n\u001b[1;32m    119\u001b[0m     \u001b[39m*\u001b[39;49m\u001b[39m*\u001b[39;49mkwargs,\n\u001b[1;32m    120\u001b[0m )\n",
      "File \u001b[0;32m~/.local/lib/python3.10/site-packages/botorch/utils/dispatcher.py:95\u001b[0m, in \u001b[0;36mDispatcher.__call__\u001b[0;34m(self, *args, **kwargs)\u001b[0m\n\u001b[1;32m     93\u001b[0m \u001b[39mfor\u001b[39;00m func \u001b[39min\u001b[39;00m funcs:\n\u001b[1;32m     94\u001b[0m     \u001b[39mtry\u001b[39;00m:\n\u001b[0;32m---> 95\u001b[0m         \u001b[39mreturn\u001b[39;00m func(\u001b[39m*\u001b[39;49margs, \u001b[39m*\u001b[39;49m\u001b[39m*\u001b[39;49mkwargs)\n\u001b[1;32m     96\u001b[0m     \u001b[39mexcept\u001b[39;00m MDNotImplementedError:\n\u001b[1;32m     97\u001b[0m         \u001b[39mpass\u001b[39;00m\n",
      "File \u001b[0;32m~/.local/lib/python3.10/site-packages/botorch/fit.py:267\u001b[0m, in \u001b[0;36m_fit_fallback\u001b[0;34m(mll, _, __, optimizer, optimizer_kwargs, max_attempts, warning_filter, caught_exception_types, **ignore)\u001b[0m\n\u001b[1;32m    260\u001b[0m         \u001b[39mexcept\u001b[39;00m caught_exception_types \u001b[39mas\u001b[39;00m err:\n\u001b[1;32m    261\u001b[0m             logging\u001b[39m.\u001b[39mlog(\n\u001b[1;32m    262\u001b[0m                 logging\u001b[39m.\u001b[39mDEBUG,\n\u001b[1;32m    263\u001b[0m                 \u001b[39mf\u001b[39m\u001b[39m\"\u001b[39m\u001b[39mFit attempt #\u001b[39m\u001b[39m{\u001b[39;00mattempt\u001b[39m}\u001b[39;00m\u001b[39m of \u001b[39m\u001b[39m{\u001b[39;00mmax_attempts\u001b[39m}\u001b[39;00m\u001b[39m failed with exception: \u001b[39m\u001b[39m\"\u001b[39m\n\u001b[1;32m    264\u001b[0m                 \u001b[39mf\u001b[39m\u001b[39m\"\u001b[39m\u001b[39m{\u001b[39;00merr\u001b[39m}\u001b[39;00m\u001b[39m\"\u001b[39m,\n\u001b[1;32m    265\u001b[0m             )\n\u001b[0;32m--> 267\u001b[0m \u001b[39mraise\u001b[39;00m ModelFittingError(\u001b[39m\"\u001b[39m\u001b[39mAll attempts to fit the model have failed.\u001b[39m\u001b[39m\"\u001b[39m)\n",
      "\u001b[0;31mModelFittingError\u001b[0m: All attempts to fit the model have failed."
     ]
    }
   ],
   "source": [
    "import plotting\n",
    "def get_fitted_model(train_X,train_Y):\n",
    "    train_Yvar = torch.full_like(train_Y, 0.01)\n",
    "    gp= FixedNoiseGP(train_X, train_Y, train_Yvar)\n",
    "    mll = ExactMarginalLogLikelihood(gp.likelihood, gp)\n",
    "    fit_gpytorch_mll(mll)\n",
    "    return gp\n",
    "\n",
    "model=get_fitted_model(train_X,train_Y)\n",
    "plotting.plot_model(model,[0.4,0.05,0.12,-30],[0.4,0.05,0.12,30.0])"
   ]
  },
  {
   "cell_type": "code",
   "execution_count": null,
   "metadata": {},
   "outputs": [
    {
     "name": "stderr",
     "output_type": "stream",
     "text": [
      "/home/olep/.local/lib/python3.10/site-packages/botorch/acquisition/multi_objective/analytic.py:131: UserWarning: To copy construct from a tensor, it is recommended to use sourceTensor.clone().detach() or sourceTensor.clone().detach().requires_grad_(True), rather than torch.tensor(sourceTensor).\n",
      "  ref_point = torch.tensor(\n"
     ]
    },
    {
     "name": "stdout",
     "output_type": "stream",
     "text": [
      "tensor([ 0.8414,  0.2000,  0.0500, 23.4391], dtype=torch.float64) :  tensor(0.6294, dtype=torch.float64)\n",
      "tensor([[1.1659, 4.1387]], dtype=torch.float64, grad_fn=<TransposeBackward0>) +- tensor([[0.6823, 2.5765]], dtype=torch.float64, grad_fn=<SqrtBackward0>)\n"
     ]
    },
    {
     "name": "stderr",
     "output_type": "stream",
     "text": [
      "Warning : Extrusion of periodic curves is not supported with the built-in kernel\n",
      "Warning : Cannot apply Blossom: odd number of triangles (133815) in surface 1\n",
      "Warning : ------------------------------\n",
      "Warning : Mesh generation error summary\n",
      "Warning :     1 warning\n",
      "Warning :     0 errors\n",
      "Warning : Check the full log for details\n",
      "Warning : ------------------------------\n"
     ]
    }
   ],
   "source": [
    "\n",
    "from botorch.utils.multi_objective.box_decompositions.non_dominated import FastNondominatedPartitioning\n",
    "from botorch.acquisition import UpperConfidenceBound\n",
    "from botorch.optim import optimize_acqf\n",
    "#print(train_X)\n",
    "#print(train_Y)\n",
    "N_BATCH=3\n",
    "for iteration in range(1, N_BATCH + 1):\n",
    "    gp=get_fitted_model(train_X,train_Y)\n",
    "    #gp = SingleTaskGP(train_X, train_Y)\n",
    "    #test_X=torch.rand(1,4)\n",
    "    #print(test_X,\": \",gp.posterior(train_X).mean,\"+-\",gp.posterior(train_X).variance.sqrt())\n",
    "\n",
    "    #\n",
    "\n",
    "    #acquisition_function = UpperConfidenceBound(gp, beta=0.1)\n",
    "    partitioning=FastNondominatedPartitioning(ref_point=torch.tensor([0.0, 0.0]),Y=train_Y)\n",
    "    acquisition_function = ExpectedHypervolumeImprovement(\n",
    "        gp, ref_point=torch.tensor([0.0, 0.0]),\n",
    "        partitioning=partitioning)\n",
    "\n",
    "    candidate, acq_value = optimize_acqf(\n",
    "        acquisition_function, bounds=bounds, q=1, num_restarts=1, batch_initial_conditions=train_X\n",
    "    )\n",
    "    print(candidate,\": \",acq_value)\n",
    "    predicted_Y=gp.posterior(candidate.unsqueeze(0)).mean\n",
    "    prediceted_Y_var=gp.posterior(candidate.unsqueeze(0)).variance\n",
    "    print(predicted_Y,\"+-\",prediceted_Y_var.sqrt())\n",
    "    actual_value=await evaluate_profile(candidate.tolist())\n",
    "    print(actual_value)\n",
    "    # add new data to training data\n",
    "    train_X = torch.cat([train_X, candidate.unsqueeze(0)])\n",
    "    train_Y = torch.cat([train_Y, torch.tensor(actual_value,dtype=dtype,device=device).unsqueeze(0)])\n",
    "    #print(train_Y)\n"
   ]
  }
 ],
 "metadata": {
  "kernelspec": {
   "display_name": "Python 3",
   "language": "python",
   "name": "python3"
  },
  "language_info": {
   "codemirror_mode": {
    "name": "ipython",
    "version": 3
   },
   "file_extension": ".py",
   "mimetype": "text/x-python",
   "name": "python",
   "nbconvert_exporter": "python",
   "pygments_lexer": "ipython3",
   "version": "3.10.8"
  },
  "orig_nbformat": 4,
  "vscode": {
   "interpreter": {
    "hash": "e7370f93d1d0cde622a1f8e1c04877d8463912d04d973331ad4851f04de6915a"
   }
  }
 },
 "nbformat": 4,
 "nbformat_minor": 2
}

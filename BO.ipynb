{
 "cells": [
  {
   "cell_type": "code",
   "execution_count": 1,
   "metadata": {},
   "outputs": [
    {
     "data": {
      "text/plain": [
       "[1.51915, 10.948355386433741]"
      ]
     },
     "execution_count": 1,
     "metadata": {},
     "output_type": "execute_result"
    }
   ],
   "source": [
    "import torch\n",
    "import io\n",
    "import os\n",
    "import json\n",
    "from botorch.models import SingleTaskGP, FixedNoiseGP\n",
    "from botorch.fit import fit_gpytorch_mll\n",
    "from botorch.acquisition.multi_objective import ExpectedHypervolumeImprovement\n",
    "from gpytorch.mlls import ExactMarginalLogLikelihood\n",
    "import asyncio\n",
    "dtype = torch.float64\n",
    "device = torch.device(\"cuda\" if torch.cuda.is_available() else \"cpu\")\n",
    "\n",
    "def x_to_filename(x):\n",
    "    return f'{x[0]}_{x[1]}_{x[2]}_{x[3]}.json'\n",
    "\n",
    "def filename_to_x(filename):\n",
    "    return [float(x) for x in filename[:-5].split('_')]\n",
    "\n",
    "async def evaluate_profile(x):\n",
    "    filename=x_to_filename(x)\n",
    "    #display(filename)\n",
    "    existing_result_files=os.listdir(\"case/results\")\n",
    "    existing_results_x=[filename_to_x(filename) for filename in existing_result_files]\n",
    "    distances=[torch.dist(torch.tensor(x),torch.tensor(existing_x)).item() for existing_x in existing_results_x]\n",
    "    #display(distances)\n",
    "    if len(distances)==0 or min(distances)>0.001:\n",
    "        config=json.dumps({\n",
    "            'p':x[0],\n",
    "            'm':x[1],\n",
    "            't':x[2],\n",
    "            'a':x[3]\n",
    "        })\n",
    "        p=await asyncio.create_subprocess_shell(f'cd case; ./evaluate_airfoil.sh \\'{config}\\'',stdout=asyncio.subprocess.PIPE)\n",
    "        await p.wait()\n",
    "        #os.system(f'cd case; ./evaluate_airfoil.sh \\'{config}\\'')\n",
    "    existing_result_files=os.listdir(\"case/results\")\n",
    "    existing_results_x=[filename_to_x(filename) for filename in existing_result_files]\n",
    "    distances=[torch.dist(torch.tensor(x),torch.tensor(existing_x)).item() for existing_x in existing_results_x]\n",
    "    min_distance_index=distances.index(min(distances))\n",
    "    with open(\"case/results/\"+existing_result_files[min_distance_index]) as file:\n",
    "        result=json.load(file)\n",
    "        #display(result)\n",
    "        return [result['C_L'],result['C_L']/result['C_D']]\n",
    "\n",
    "\n",
    "await evaluate_profile([0.42,0.05,0.18,15])"
   ]
  },
  {
   "cell_type": "code",
   "execution_count": 2,
   "metadata": {},
   "outputs": [
    {
     "data": {
      "text/plain": [
       "tensor([[ 6.5349e-01, -3.7167e-02,  1.7760e-01,  3.0160e+01],\n",
       "        [ 6.8379e-01, -1.1131e-01,  1.4718e-01,  2.8355e+01],\n",
       "        [ 1.9450e-01, -1.6526e-02,  1.6754e-01,  2.3885e+01],\n",
       "        [ 6.1592e-01, -6.9133e-02,  1.3380e-01,  7.9757e+00],\n",
       "        [ 4.1448e-01,  1.0468e-01,  1.8445e-01,  3.4339e+01],\n",
       "        [ 4.1417e-01,  1.7426e-01,  1.6276e-01,  1.0496e+01],\n",
       "        [ 7.8733e-01, -1.1406e-01,  2.9177e-01,  1.1984e+01],\n",
       "        [ 3.0154e-01,  1.9214e-01,  2.2851e-01,  2.4355e+01],\n",
       "        [ 6.8637e-01,  1.4254e-01,  2.4793e-01,  8.0468e+00],\n",
       "        [ 2.2206e-01,  1.0263e-01,  1.9729e-01,  7.5232e+00],\n",
       "        [ 3.5731e-01, -7.3380e-02,  9.6676e-02,  5.3306e+00],\n",
       "        [ 3.8348e-01, -1.4896e-01,  1.9878e-01,  1.8851e+01],\n",
       "        [ 1.0387e-01, -4.8587e-02,  2.2228e-01,  1.3167e+01],\n",
       "        [ 1.6249e-01,  1.3232e-01,  2.7471e-01,  1.6463e-01],\n",
       "        [ 1.6532e-01,  1.8068e-01,  1.7402e-01,  3.0114e+01],\n",
       "        [ 6.9308e-01, -4.0241e-02,  1.7621e-01,  9.4923e+00],\n",
       "        [ 6.6980e-01, -2.2145e-02,  2.4722e-01,  9.9564e+00],\n",
       "        [ 7.6800e-01, -1.1869e-01,  2.9577e-01,  1.2769e+01],\n",
       "        [ 6.5476e-01, -5.6029e-02,  1.4172e-01,  3.3769e+00],\n",
       "        [ 4.1593e-01, -1.6095e-01,  2.8181e-01,  1.6926e+01],\n",
       "        [ 7.3614e-01, -1.7634e-01,  7.4904e-02,  3.1845e+01],\n",
       "        [ 5.9509e-01, -4.4780e-02,  2.3609e-01,  3.4377e+01],\n",
       "        [ 1.3739e-01,  7.9306e-02,  1.0256e-01,  2.5103e+01],\n",
       "        [ 5.7323e-01, -2.9478e-03,  1.0896e-01,  2.5827e+01],\n",
       "        [ 7.2453e-01, -9.1445e-02,  2.9134e-01,  3.0470e+01],\n",
       "        [ 1.1360e-01, -1.8849e-01,  1.1644e-01,  4.5829e+00],\n",
       "        [ 3.4524e-01, -1.2098e-01,  2.8763e-01,  1.3822e+01],\n",
       "        [ 2.0521e-01, -1.1956e-01,  1.8094e-01,  2.5450e+01],\n",
       "        [ 2.3305e-01, -3.3914e-02,  7.7110e-02,  2.5258e+00],\n",
       "        [ 2.4622e-01, -1.6460e-01,  5.0494e-02,  3.0749e+01],\n",
       "        [ 8.6719e-01,  1.5894e-01,  1.0855e-01,  2.7853e+01],\n",
       "        [ 8.5823e-01,  5.9186e-02,  2.2642e-01,  1.7313e+01],\n",
       "        [ 1.4825e-01,  2.7022e-02,  1.0109e-01,  6.5286e+00],\n",
       "        [ 5.2960e-01,  8.2676e-02,  2.5597e-01,  2.8141e+01],\n",
       "        [ 2.6532e-01,  1.9051e-01,  1.2782e-01,  2.0101e+01],\n",
       "        [ 3.9829e-01, -3.2333e-05,  2.4488e-01,  1.1208e+01],\n",
       "        [ 2.7886e-01,  1.8191e-01,  2.8754e-01,  1.3561e+01],\n",
       "        [ 6.0540e-01, -2.5492e-02,  2.4451e-01,  6.4324e+00],\n",
       "        [ 1.3236e-01,  1.3016e-01,  1.9356e-01,  2.4751e-01],\n",
       "        [ 3.8906e-01, -4.9762e-02,  1.8036e-01,  2.8712e+01]],\n",
       "       dtype=torch.float64)"
      ]
     },
     "metadata": {},
     "output_type": "display_data"
    },
    {
     "name": "stderr",
     "output_type": "stream",
     "text": [
      "Warning : Extrusion of periodic curves is not supported with the built-in kernel\n",
      "Warning : Extrusion of periodic curves is not supported with the built-in kernel\n",
      "Warning : Extrusion of periodic curves is not supported with the built-in kernel\n",
      "Warning : Extrusion of periodic curves is not supported with the built-in kernel\n",
      "Warning : Extrusion of periodic curves is not supported with the built-in kernel\n",
      "Warning : Extrusion of periodic curves is not supported with the built-in kernel\n",
      "Warning : Extrusion of periodic curves is not supported with the built-in kernel\n",
      "Warning : Extrusion of periodic curves is not supported with the built-in kernel\n",
      "Warning : Extrusion of periodic curves is not supported with the built-in kernel\n",
      "Warning : Extrusion of periodic curves is not supported with the built-in kernel\n",
      "Warning : Extrusion of periodic curves is not supported with the built-in kernel\n",
      "Warning : Extrusion of periodic curves is not supported with the built-in kernel\n",
      "Warning : Extrusion of periodic curves is not supported with the built-in kernel\n",
      "Warning : Extrusion of periodic curves is not supported with the built-in kernel\n",
      "Warning : Extrusion of periodic curves is not supported with the built-in kernel\n",
      "Warning : Extrusion of periodic curves is not supported with the built-in kernel\n",
      "Warning : Extrusion of periodic curves is not supported with the built-in kernel\n",
      "Warning : Extrusion of periodic curves is not supported with the built-in kernel\n",
      "Warning : Extrusion of periodic curves is not supported with the built-in kernel\n",
      "Warning : Extrusion of periodic curves is not supported with the built-in kernel\n",
      "Warning : Extrusion of periodic curves is not supported with the built-in kernel\n",
      "Warning : Extrusion of periodic curves is not supported with the built-in kernel\n",
      "Warning : Extrusion of periodic curves is not supported with the built-in kernel\n",
      "Warning : Extrusion of periodic curves is not supported with the built-in kernel\n",
      "Warning : Extrusion of periodic curves is not supported with the built-in kernel\n",
      "Warning : Extrusion of periodic curves is not supported with the built-in kernel\n",
      "Warning : Extrusion of periodic curves is not supported with the built-in kernel\n",
      "Warning : Extrusion of periodic curves is not supported with the built-in kernel\n",
      "Warning : Extrusion of periodic curves is not supported with the built-in kernel\n",
      "Warning : Extrusion of periodic curves is not supported with the built-in kernel\n",
      "Warning : Extrusion of periodic curves is not supported with the built-in kernel\n",
      "Warning : Extrusion of periodic curves is not supported with the built-in kernel\n",
      "Warning : Extrusion of periodic curves is not supported with the built-in kernel\n",
      "Warning : Extrusion of periodic curves is not supported with the built-in kernel\n",
      "Warning : Extrusion of periodic curves is not supported with the built-in kernel\n",
      "Warning : Extrusion of periodic curves is not supported with the built-in kernel\n",
      "Warning : Extrusion of periodic curves is not supported with the built-in kernel\n",
      "Warning : Extrusion of periodic curves is not supported with the built-in kernel\n",
      "Warning : Extrusion of periodic curves is not supported with the built-in kernel\n",
      "Warning : Extrusion of periodic curves is not supported with the built-in kernel\n",
      "Warning : Cannot apply Blossom: odd number of triangles (194655) in surface 1\n",
      "Warning : ------------------------------\n",
      "Warning : Mesh generation error summary\n",
      "Warning :     1 warning\n",
      "Warning :     0 errors\n",
      "Warning : Check the full log for details\n",
      "Warning : ------------------------------\n",
      "/opt/OpenFOAM/OpenFOAM-10/bin/tools/RunFunctions: line 53: 237742 Segmentation fault      (core dumped) $APP_RUN \"$@\" > log.$LOG_SUFFIX 2>&1\n",
      "/opt/OpenFOAM/OpenFOAM-10/bin/tools/RunFunctions: line 53: 241447 Segmentation fault      (core dumped) $APP_RUN \"$@\" > log.$LOG_SUFFIX 2>&1\n",
      "/opt/OpenFOAM/OpenFOAM-10/bin/tools/RunFunctions: line 53: 244989 Segmentation fault      (core dumped) $APP_RUN \"$@\" > log.$LOG_SUFFIX 2>&1\n",
      "/opt/OpenFOAM/OpenFOAM-10/bin/tools/RunFunctions: line 53: 247076 Segmentation fault      (core dumped) $APP_RUN \"$@\" > log.$LOG_SUFFIX 2>&1\n",
      "/opt/OpenFOAM/OpenFOAM-10/bin/tools/RunFunctions: line 53: 249365 Segmentation fault      (core dumped) $APP_RUN \"$@\" > log.$LOG_SUFFIX 2>&1\n",
      "/opt/OpenFOAM/OpenFOAM-10/bin/tools/RunFunctions: line 53: 248557 Segmentation fault      (core dumped) $APP_RUN \"$@\" > log.$LOG_SUFFIX 2>&1\n",
      "/opt/OpenFOAM/OpenFOAM-10/bin/tools/RunFunctions: line 53: 236983 Segmentation fault      (core dumped) $APP_RUN \"$@\" > log.$LOG_SUFFIX 2>&1\n"
     ]
    }
   ],
   "source": [
    "x_lims=[(0.1,0.9),(-0.2,0.2),(0.05,0.3),(0.01,35)]\n",
    "\n",
    "random_initial_X=True\n",
    "INITIAL_X_COUNT=40\n",
    "initial_X = None\n",
    "if random_initial_X or len(os.listdir(\"case/results\"))<INITIAL_X_COUNT:\n",
    "    initial_X = torch.rand(INITIAL_X_COUNT,4, dtype=dtype, device=device)\n",
    "    for d in range(4):\n",
    "        initial_X[:,d]=x_lims[d][0]+initial_X[:,d]*(x_lims[d][1]-x_lims[d][0])\n",
    "else:\n",
    "    # get initial X from filenames in case/results folder\n",
    "    initial_X=torch.tensor([filename_to_x(filename) for filename in os.listdir(\"case/results\")],dtype=dtype,device=device)\n",
    "    # take six random points from the initial X\n",
    "    initial_X = initial_X[torch.randperm(initial_X.shape[0])[:INITIAL_X_COUNT]]\n",
    "\n",
    "display(initial_X)\n",
    "y=await asyncio.gather(*[evaluate_profile(x.tolist()) for x in initial_X])\n",
    "train_X=initial_X\n",
    "train_Y = torch.tensor(y,dtype=dtype,device=device)"
   ]
  },
  {
   "cell_type": "code",
   "execution_count": 6,
   "metadata": {},
   "outputs": [
    {
     "data": {
      "text/plain": [
       "tensor([[ 1.0000e-01, -2.0000e-01,  5.0000e-02,  1.0000e-02],\n",
       "        [ 9.0000e-01,  2.0000e-01,  3.0000e-01,  3.5000e+01]])"
      ]
     },
     "execution_count": 6,
     "metadata": {},
     "output_type": "execute_result"
    }
   ],
   "source": [
    "bounds = torch.stack([torch.tensor(x_lims)[:,0], torch.tensor(x_lims)[:,1]])\n",
    "bounds"
   ]
  },
  {
   "cell_type": "code",
   "execution_count": 18,
   "metadata": {},
   "outputs": [
    {
     "data": {
      "image/png": "[encoded data removed]",
      "text/plain": [
       "<Figure size 432x288 with 2 Axes>"
      ]
     },
     "metadata": {
      "needs_background": "light"
     },
     "output_type": "display_data"
    }
   ],
   "source": [
    "import plotting\n",
    "def get_fitted_model(train_X,train_Y):\n",
    "    train_Yvar = torch.full_like(train_Y, 0.01)\n",
    "    gp= FixedNoiseGP(train_X, train_Y, train_Yvar)\n",
    "    mll = ExactMarginalLogLikelihood(gp.likelihood, gp)\n",
    "    fit_gpytorch_mll(mll)\n",
    "    return gp\n",
    "\n",
    "model=get_fitted_model(train_X,train_Y)\n",
    "plotting.plot_model(model,[0.5,-0.05,0.15,0],[0.5,-0.05,0.15,30.0])"
   ]
  },
  {
   "cell_type": "code",
   "execution_count": 5,
   "metadata": {},
   "outputs": [
    {
     "name": "stderr",
     "output_type": "stream",
     "text": [
      "/home/olep/.local/lib/python3.10/site-packages/botorch/acquisition/multi_objective/analytic.py:131: UserWarning: To copy construct from a tensor, it is recommended to use sourceTensor.clone().detach() or sourceTensor.clone().detach().requires_grad_(True), rather than torch.tensor(sourceTensor).\n",
      "  ref_point = torch.tensor(\n"
     ]
    },
    {
     "name": "stdout",
     "output_type": "stream",
     "text": [
      "tensor([ 0.5742,  0.1950,  0.2197, 21.3814], dtype=torch.float64) :  tensor(4.9247, dtype=torch.float64)\n",
      "tensor([[ 2.1583, 40.3633]], dtype=torch.float64, grad_fn=<TransposeBackward0>) +- tensor([[0.4513, 3.5508]], dtype=torch.float64, grad_fn=<SqrtBackward0>)\n"
     ]
    },
    {
     "name": "stderr",
     "output_type": "stream",
     "text": [
      "Warning : Extrusion of periodic curves is not supported with the built-in kernel\n"
     ]
    },
    {
     "name": "stdout",
     "output_type": "stream",
     "text": [
      "[2.56324, 39.78203411032699]\n"
     ]
    },
    {
     "name": "stderr",
     "output_type": "stream",
     "text": [
      "/home/olep/.local/lib/python3.10/site-packages/botorch/acquisition/multi_objective/analytic.py:131: UserWarning: To copy construct from a tensor, it is recommended to use sourceTensor.clone().detach() or sourceTensor.clone().detach().requires_grad_(True), rather than torch.tensor(sourceTensor).\n",
      "  ref_point = torch.tensor(\n"
     ]
    },
    {
     "name": "stdout",
     "output_type": "stream",
     "text": [
      "tensor([ 0.5457,  0.2000,  0.0832, 21.4016], dtype=torch.float64) :  tensor(3.6034, dtype=torch.float64)\n",
      "tensor([[ 2.3555, 35.2132]], dtype=torch.float64, grad_fn=<TransposeBackward0>) +- tensor([[0.4659, 3.9976]], dtype=torch.float64, grad_fn=<SqrtBackward0>)\n"
     ]
    },
    {
     "name": "stderr",
     "output_type": "stream",
     "text": [
      "Warning : Extrusion of periodic curves is not supported with the built-in kernel\n",
      "Warning : Cannot apply Blossom: odd number of triangles (109159) in surface 1\n",
      "Warning : ------------------------------\n",
      "Warning : Mesh generation error summary\n",
      "Warning :     1 warning\n",
      "Warning :     0 errors\n",
      "Warning : Check the full log for details\n",
      "Warning : ------------------------------\n"
     ]
    },
    {
     "name": "stdout",
     "output_type": "stream",
     "text": [
      "[2.64304, 35.4797615388023]\n"
     ]
    },
    {
     "name": "stderr",
     "output_type": "stream",
     "text": [
      "/home/olep/.local/lib/python3.10/site-packages/botorch/acquisition/multi_objective/analytic.py:131: UserWarning: To copy construct from a tensor, it is recommended to use sourceTensor.clone().detach() or sourceTensor.clone().detach().requires_grad_(True), rather than torch.tensor(sourceTensor).\n",
      "  ref_point = torch.tensor(\n"
     ]
    },
    {
     "name": "stdout",
     "output_type": "stream",
     "text": [
      "tensor([ 0.3932,  0.2000,  0.1719, 21.3972], dtype=torch.float64) :  tensor(3.0288, dtype=torch.float64)\n",
      "tensor([[ 2.4715, 32.2609]], dtype=torch.float64, grad_fn=<TransposeBackward0>) +- tensor([[0.4117, 4.4417]], dtype=torch.float64, grad_fn=<SqrtBackward0>)\n"
     ]
    },
    {
     "name": "stderr",
     "output_type": "stream",
     "text": [
      "Warning : Extrusion of periodic curves is not supported with the built-in kernel\n"
     ]
    },
    {
     "name": "stdout",
     "output_type": "stream",
     "text": [
      "[2.56823, 25.687899962191754]\n"
     ]
    }
   ],
   "source": [
    "\n",
    "from botorch.utils.multi_objective.box_decompositions.non_dominated import FastNondominatedPartitioning\n",
    "from botorch.acquisition import UpperConfidenceBound\n",
    "from botorch.optim import optimize_acqf\n",
    "#print(train_X)\n",
    "#print(train_Y)\n",
    "N_BATCH=3\n",
    "for iteration in range(1, N_BATCH + 1):\n",
    "    gp=get_fitted_model(train_X,train_Y)\n",
    "    #gp = SingleTaskGP(train_X, train_Y)\n",
    "    #test_X=torch.rand(1,4)\n",
    "    #print(test_X,\": \",gp.posterior(train_X).mean,\"+-\",gp.posterior(train_X).variance.sqrt())\n",
    "\n",
    "    #\n",
    "\n",
    "    #acquisition_function = UpperConfidenceBound(gp, beta=0.1)\n",
    "    partitioning=FastNondominatedPartitioning(ref_point=torch.tensor([0.0, 0.0]),Y=train_Y)\n",
    "    acquisition_function = ExpectedHypervolumeImprovement(\n",
    "        gp, ref_point=torch.tensor([0.0, 0.0]),\n",
    "        partitioning=partitioning)\n",
    "\n",
    "    candidate, acq_value = optimize_acqf(\n",
    "        acquisition_function, bounds=bounds, q=1, num_restarts=1, batch_initial_conditions=train_X\n",
    "    )\n",
    "    print(candidate,\": \",acq_value)\n",
    "    predicted_Y=gp.posterior(candidate.unsqueeze(0)).mean\n",
    "    prediceted_Y_var=gp.posterior(candidate.unsqueeze(0)).variance\n",
    "    print(predicted_Y,\"+-\",prediceted_Y_var.sqrt())\n",
    "    actual_value=await evaluate_profile(candidate.tolist())\n",
    "    print(actual_value)\n",
    "    # add new data to training data\n",
    "    train_X = torch.cat([train_X, candidate.unsqueeze(0)])\n",
    "    train_Y = torch.cat([train_Y, torch.tensor(actual_value,dtype=dtype,device=device).unsqueeze(0)])\n",
    "    #print(train_Y)\n"
   ]
  }
 ],
 "metadata": {
  "kernelspec": {
   "display_name": "Python 3",
   "language": "python",
   "name": "python3"
  },
  "language_info": {
   "codemirror_mode": {
    "name": "ipython",
    "version": 3
   },
   "file_extension": ".py",
   "mimetype": "text/x-python",
   "name": "python",
   "nbconvert_exporter": "python",
   "pygments_lexer": "ipython3",
   "version": "3.10.8"
  },
  "orig_nbformat": 4,
  "vscode": {
   "interpreter": {
    "hash": "e7370f93d1d0cde622a1f8e1c04877d8463912d04d973331ad4851f04de6915a"
   }
  }
 },
 "nbformat": 4,
 "nbformat_minor": 2
}

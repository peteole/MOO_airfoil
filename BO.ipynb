{
 "cells": [
  {
   "cell_type": "code",
   "execution_count": 1,
   "metadata": {},
   "outputs": [
    {
     "data": {
      "text/plain": [
       "[1.51915, 10.948355386433741]"
      ]
     },
     "execution_count": 1,
     "metadata": {},
     "output_type": "execute_result"
    }
   ],
   "source": [
    "import torch\n",
    "import io\n",
    "import os\n",
    "import json\n",
    "from botorch.models import SingleTaskGP, FixedNoiseGP\n",
    "from botorch.fit import fit_gpytorch_mll\n",
    "from botorch.acquisition.multi_objective import ExpectedHypervolumeImprovement\n",
    "from gpytorch.mlls import ExactMarginalLogLikelihood\n",
    "import asyncio\n",
    "dtype = torch.float64\n",
    "device = torch.device(\"cuda\" if torch.cuda.is_available() else \"cpu\")\n",
    "\n",
    "def x_to_filename(x):\n",
    "    return f'{x[0]}_{x[1]}_{x[2]}_{x[3]}.json'\n",
    "\n",
    "def filename_to_x(filename):\n",
    "    return [float(x) for x in filename[:-5].split('_')]\n",
    "\n",
    "async def evaluate_profile(x):\n",
    "    filename=x_to_filename(x)\n",
    "    #display(filename)\n",
    "    existing_result_files=os.listdir(\"case/results\")\n",
    "    existing_results_x=[filename_to_x(filename) for filename in existing_result_files]\n",
    "    distances=[torch.dist(torch.tensor(x),torch.tensor(existing_x)).item() for existing_x in existing_results_x]\n",
    "    #display(distances)\n",
    "    if len(distances)==0 or min(distances)>0.001:\n",
    "        config=json.dumps({\n",
    "            'p':x[0],\n",
    "            'm':x[1],\n",
    "            't':x[2],\n",
    "            'a':x[3]\n",
    "        })\n",
    "        p=await asyncio.create_subprocess_shell(f'cd case; ./evaluate_airfoil.sh \\'{config}\\'',stdout=asyncio.subprocess.PIPE)\n",
    "        await p.wait()\n",
    "        #os.system(f'cd case; ./evaluate_airfoil.sh \\'{config}\\'')\n",
    "    existing_result_files=os.listdir(\"case/results\")\n",
    "    existing_results_x=[filename_to_x(filename) for filename in existing_result_files]\n",
    "    distances=[torch.dist(torch.tensor(x),torch.tensor(existing_x)).item() for existing_x in existing_results_x]\n",
    "    min_distance_index=distances.index(min(distances))\n",
    "    with open(\"case/results/\"+existing_result_files[min_distance_index]) as file:\n",
    "        result=json.load(file)\n",
    "        #display(result)\n",
    "        return [result['C_L'],result['C_L']/result['C_D']]\n",
    "\n",
    "\n",
    "await evaluate_profile([0.42,0.05,0.18,15])"
   ]
  },
  {
   "cell_type": "code",
   "execution_count": 11,
   "metadata": {},
   "outputs": [
    {
     "data": {
      "text/plain": [
       "tensor([[ 7.3067e-01, -3.8997e-02,  2.7854e-01,  1.7882e+01],\n",
       "        [ 6.2766e-01,  1.3606e-01,  1.6957e-01,  1.7585e+01],\n",
       "        [ 6.3015e-01,  3.7878e-02,  1.7296e-01,  2.6037e+00],\n",
       "        [ 2.4694e-01, -1.8699e-01,  2.6644e-01,  7.7385e+00],\n",
       "        [ 4.5826e-01, -1.4955e-01,  1.5524e-01,  2.6218e+01],\n",
       "        [ 2.8354e-01,  4.0564e-02,  2.7812e-01,  2.0166e+01],\n",
       "        [ 6.1069e-01, -6.4715e-02,  2.4631e-01,  3.1846e+01],\n",
       "        [ 8.7843e-01, -1.9665e-01,  2.7409e-01,  2.0947e+01],\n",
       "        [ 4.6863e-01, -3.7473e-02,  1.8851e-01,  2.0009e+01],\n",
       "        [ 5.8285e-01,  1.2984e-01,  2.2198e-01,  2.1370e+01],\n",
       "        [ 2.6930e-01,  1.1843e-01,  2.1226e-01,  3.4641e+01],\n",
       "        [ 5.4572e-01,  2.0000e-01,  8.3216e-02,  2.1402e+01],\n",
       "        [ 4.8460e-01,  5.3158e-02,  9.4846e-02,  2.5006e+01],\n",
       "        [ 5.8647e-01,  9.8468e-02,  1.0560e-01,  2.2241e+01],\n",
       "        [ 4.2076e-01,  1.1872e-01,  1.0441e-01,  1.7589e+01],\n",
       "        [ 4.1060e-01,  1.7214e-01,  2.6322e-01,  1.7198e+01],\n",
       "        [ 4.5287e-01, -1.6824e-01,  2.5655e-01,  7.4871e+00],\n",
       "        [ 5.6060e-01, -1.1954e-01,  2.0590e-01,  2.5623e+01],\n",
       "        [ 6.5155e-01, -3.1770e-02,  2.6572e-01,  2.0702e+01],\n",
       "        [ 6.7883e-01,  8.7365e-02,  1.0580e-01,  2.8663e+01],\n",
       "        [ 4.2000e-01,  5.0000e-02,  1.8000e-01,  1.5000e+01],\n",
       "        [ 3.7237e-01, -1.1616e-01,  2.8666e-01,  1.1833e+01],\n",
       "        [ 4.7410e-01,  7.2250e-02,  1.4971e-01,  2.6659e+01],\n",
       "        [ 7.7716e-01, -1.9350e-01,  2.9877e-01,  2.7218e+01],\n",
       "        [ 5.5993e-01, -1.0800e-01,  7.7441e-02,  1.4749e+00],\n",
       "        [ 4.7920e-01,  1.3469e-01,  1.8289e-01,  4.4725e+00],\n",
       "        [ 3.0640e-01,  7.8970e-02,  1.4058e-01,  3.0351e+01],\n",
       "        [ 8.9952e-01,  6.4930e-02,  1.0033e-01,  1.9243e+01],\n",
       "        [ 4.0627e-01,  1.8807e-01,  1.8981e-01,  2.9996e+01],\n",
       "        [ 3.2282e-01,  1.8458e-01,  2.5453e-01,  1.4915e+01],\n",
       "        [ 5.8279e-01, -9.5630e-02,  2.3217e-01,  8.1742e+00],\n",
       "        [ 4.8197e-01,  1.2346e-01,  9.6808e-02,  1.0941e+00],\n",
       "        [ 1.6036e-01, -1.9513e-01,  2.5080e-01,  3.3775e+01],\n",
       "        [ 6.1835e-01,  2.0245e-02,  1.4874e-01,  1.7709e+01],\n",
       "        [ 5.3561e-01, -5.9019e-02,  8.0451e-02,  9.0017e+00],\n",
       "        [ 7.7283e-01,  1.6549e-01,  1.5692e-01,  2.6990e+01],\n",
       "        [ 3.9321e-01,  2.0000e-01,  1.7192e-01,  2.1397e+01],\n",
       "        [ 4.2000e-01,  5.0000e-02,  1.8000e-01,  1.4000e+01],\n",
       "        [ 7.7392e-01, -1.6059e-02,  1.3208e-01,  1.0078e+01],\n",
       "        [ 5.4474e-01, -1.8239e-01,  2.0410e-01,  4.0214e+00]],\n",
       "       dtype=torch.float64)"
      ]
     },
     "metadata": {},
     "output_type": "display_data"
    }
   ],
   "source": [
    "x_lims=[(0.1,0.9),(-0.2,0.2),(0.05,0.3),(0.01,35)]\n",
    "\n",
    "random_initial_X=False\n",
    "INITIAL_X_COUNT=40\n",
    "initial_X = None\n",
    "if random_initial_X or len(os.listdir(\"case/results\"))<INITIAL_X_COUNT:\n",
    "    initial_X = torch.rand(INITIAL_X_COUNT,4, dtype=dtype, device=device)\n",
    "    for d in range(4):\n",
    "        initial_X[:,d]=x_lims[d][0]+initial_X[:,d]*(x_lims[d][1]-x_lims[d][0])\n",
    "else:\n",
    "    # get initial X from filenames in case/results folder\n",
    "    initial_X=torch.tensor([filename_to_x(filename) for filename in os.listdir(\"case/results\")],dtype=dtype,device=device)\n",
    "    # take six random points from the initial X\n",
    "    initial_X = initial_X[torch.randperm(initial_X.shape[0])[:INITIAL_X_COUNT]]\n",
    "\n",
    "display(initial_X)\n",
    "y=await asyncio.gather(*[evaluate_profile(x.tolist()) for x in initial_X])\n",
    "train_X=initial_X\n",
    "train_Y = torch.tensor(y,dtype=dtype,device=device)"
   ]
  },
  {
   "cell_type": "code",
   "execution_count": 6,
   "metadata": {},
   "outputs": [
    {
     "data": {
      "text/plain": [
       "tensor([[ 1.0000e-01, -2.0000e-01,  5.0000e-02,  1.0000e-02],\n",
       "        [ 9.0000e-01,  2.0000e-01,  3.0000e-01,  3.5000e+01]])"
      ]
     },
     "execution_count": 6,
     "metadata": {},
     "output_type": "execute_result"
    }
   ],
   "source": [
    "bounds = torch.stack([torch.tensor(x_lims)[:,0], torch.tensor(x_lims)[:,1]])\n",
    "bounds"
   ]
  },
  {
   "cell_type": "code",
   "execution_count": 13,
   "metadata": {},
   "outputs": [
    {
     "data": {
      "image/png": "[encoded data removed]",
      "text/plain": [
       "<Figure size 432x288 with 2 Axes>"
      ]
     },
     "metadata": {
      "needs_background": "light"
     },
     "output_type": "display_data"
    }
   ],
   "source": [
    "import plotting\n",
    "def get_fitted_model(train_X,train_Y):\n",
    "    train_Yvar = torch.full_like(train_Y, 0.01)\n",
    "    gp= FixedNoiseGP(train_X, train_Y, train_Yvar)\n",
    "    mll = ExactMarginalLogLikelihood(gp.likelihood, gp)\n",
    "    fit_gpytorch_mll(mll)\n",
    "    return gp\n",
    "\n",
    "model=get_fitted_model(train_X,train_Y)\n",
    "plotting.plot_model(model,[0.5,0.05,0.15,0],[0.5,0.05,0.15,30.0])"
   ]
  },
  {
   "cell_type": "code",
   "execution_count": 5,
   "metadata": {},
   "outputs": [
    {
     "name": "stderr",
     "output_type": "stream",
     "text": [
      "/home/olep/.local/lib/python3.10/site-packages/botorch/acquisition/multi_objective/analytic.py:131: UserWarning: To copy construct from a tensor, it is recommended to use sourceTensor.clone().detach() or sourceTensor.clone().detach().requires_grad_(True), rather than torch.tensor(sourceTensor).\n",
      "  ref_point = torch.tensor(\n"
     ]
    },
    {
     "name": "stdout",
     "output_type": "stream",
     "text": [
      "tensor([ 0.5742,  0.1950,  0.2197, 21.3814], dtype=torch.float64) :  tensor(4.9247, dtype=torch.float64)\n",
      "tensor([[ 2.1583, 40.3633]], dtype=torch.float64, grad_fn=<TransposeBackward0>) +- tensor([[0.4513, 3.5508]], dtype=torch.float64, grad_fn=<SqrtBackward0>)\n"
     ]
    },
    {
     "name": "stderr",
     "output_type": "stream",
     "text": [
      "Warning : Extrusion of periodic curves is not supported with the built-in kernel\n"
     ]
    },
    {
     "name": "stdout",
     "output_type": "stream",
     "text": [
      "[2.56324, 39.78203411032699]\n"
     ]
    },
    {
     "name": "stderr",
     "output_type": "stream",
     "text": [
      "/home/olep/.local/lib/python3.10/site-packages/botorch/acquisition/multi_objective/analytic.py:131: UserWarning: To copy construct from a tensor, it is recommended to use sourceTensor.clone().detach() or sourceTensor.clone().detach().requires_grad_(True), rather than torch.tensor(sourceTensor).\n",
      "  ref_point = torch.tensor(\n"
     ]
    },
    {
     "name": "stdout",
     "output_type": "stream",
     "text": [
      "tensor([ 0.5457,  0.2000,  0.0832, 21.4016], dtype=torch.float64) :  tensor(3.6034, dtype=torch.float64)\n",
      "tensor([[ 2.3555, 35.2132]], dtype=torch.float64, grad_fn=<TransposeBackward0>) +- tensor([[0.4659, 3.9976]], dtype=torch.float64, grad_fn=<SqrtBackward0>)\n"
     ]
    },
    {
     "name": "stderr",
     "output_type": "stream",
     "text": [
      "Warning : Extrusion of periodic curves is not supported with the built-in kernel\n",
      "Warning : Cannot apply Blossom: odd number of triangles (109159) in surface 1\n",
      "Warning : ------------------------------\n",
      "Warning : Mesh generation error summary\n",
      "Warning :     1 warning\n",
      "Warning :     0 errors\n",
      "Warning : Check the full log for details\n",
      "Warning : ------------------------------\n"
     ]
    },
    {
     "name": "stdout",
     "output_type": "stream",
     "text": [
      "[2.64304, 35.4797615388023]\n"
     ]
    },
    {
     "name": "stderr",
     "output_type": "stream",
     "text": [
      "/home/olep/.local/lib/python3.10/site-packages/botorch/acquisition/multi_objective/analytic.py:131: UserWarning: To copy construct from a tensor, it is recommended to use sourceTensor.clone().detach() or sourceTensor.clone().detach().requires_grad_(True), rather than torch.tensor(sourceTensor).\n",
      "  ref_point = torch.tensor(\n"
     ]
    },
    {
     "name": "stdout",
     "output_type": "stream",
     "text": [
      "tensor([ 0.3932,  0.2000,  0.1719, 21.3972], dtype=torch.float64) :  tensor(3.0288, dtype=torch.float64)\n",
      "tensor([[ 2.4715, 32.2609]], dtype=torch.float64, grad_fn=<TransposeBackward0>) +- tensor([[0.4117, 4.4417]], dtype=torch.float64, grad_fn=<SqrtBackward0>)\n"
     ]
    },
    {
     "name": "stderr",
     "output_type": "stream",
     "text": [
      "Warning : Extrusion of periodic curves is not supported with the built-in kernel\n"
     ]
    },
    {
     "name": "stdout",
     "output_type": "stream",
     "text": [
      "[2.56823, 25.687899962191754]\n"
     ]
    }
   ],
   "source": [
    "\n",
    "from botorch.utils.multi_objective.box_decompositions.non_dominated import FastNondominatedPartitioning\n",
    "from botorch.acquisition import UpperConfidenceBound\n",
    "from botorch.optim import optimize_acqf\n",
    "#print(train_X)\n",
    "#print(train_Y)\n",
    "N_BATCH=3\n",
    "for iteration in range(1, N_BATCH + 1):\n",
    "    gp=get_fitted_model(train_X,train_Y)\n",
    "    #gp = SingleTaskGP(train_X, train_Y)\n",
    "    #test_X=torch.rand(1,4)\n",
    "    #print(test_X,\": \",gp.posterior(train_X).mean,\"+-\",gp.posterior(train_X).variance.sqrt())\n",
    "\n",
    "    #\n",
    "\n",
    "    #acquisition_function = UpperConfidenceBound(gp, beta=0.1)\n",
    "    partitioning=FastNondominatedPartitioning(ref_point=torch.tensor([0.0, 0.0]),Y=train_Y)\n",
    "    acquisition_function = ExpectedHypervolumeImprovement(\n",
    "        gp, ref_point=torch.tensor([0.0, 0.0]),\n",
    "        partitioning=partitioning)\n",
    "\n",
    "    candidate, acq_value = optimize_acqf(\n",
    "        acquisition_function, bounds=bounds, q=1, num_restarts=1, batch_initial_conditions=train_X\n",
    "    )\n",
    "    print(candidate,\": \",acq_value)\n",
    "    predicted_Y=gp.posterior(candidate.unsqueeze(0)).mean\n",
    "    prediceted_Y_var=gp.posterior(candidate.unsqueeze(0)).variance\n",
    "    print(predicted_Y,\"+-\",prediceted_Y_var.sqrt())\n",
    "    actual_value=await evaluate_profile(candidate.tolist())\n",
    "    print(actual_value)\n",
    "    # add new data to training data\n",
    "    train_X = torch.cat([train_X, candidate.unsqueeze(0)])\n",
    "    train_Y = torch.cat([train_Y, torch.tensor(actual_value,dtype=dtype,device=device).unsqueeze(0)])\n",
    "    #print(train_Y)\n"
   ]
  }
 ],
 "metadata": {
  "kernelspec": {
   "display_name": "Python 3",
   "language": "python",
   "name": "python3"
  },
  "language_info": {
   "codemirror_mode": {
    "name": "ipython",
    "version": 3
   },
   "file_extension": ".py",
   "mimetype": "text/x-python",
   "name": "python",
   "nbconvert_exporter": "python",
   "pygments_lexer": "ipython3",
   "version": "3.10.8"
  },
  "orig_nbformat": 4,
  "vscode": {
   "interpreter": {
    "hash": "e7370f93d1d0cde622a1f8e1c04877d8463912d04d973331ad4851f04de6915a"
   }
  }
 },
 "nbformat": 4,
 "nbformat_minor": 2
}

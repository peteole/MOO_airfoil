{
 "cells": [
  {
   "cell_type": "code",
   "execution_count": 1,
   "metadata": {},
   "outputs": [
    {
     "data": {
      "text/plain": [
       "'0.42_0.05_0.18_11.json'"
      ]
     },
     "metadata": {},
     "output_type": "display_data"
    },
    {
     "data": {
      "text/plain": [
       "{'C_L': 1.26294,\n",
       " 'C_D': 0.141091,\n",
       " 'C_N': 1.27673,\n",
       " 'C_T': -0.05064858,\n",
       " 'angle': 0.1919862177193889}"
      ]
     },
     "metadata": {},
     "output_type": "display_data"
    },
    {
     "data": {
      "text/plain": [
       "[1.26294, 8.951244232445726]"
      ]
     },
     "execution_count": 1,
     "metadata": {},
     "output_type": "execute_result"
    }
   ],
   "source": [
    "import torch\n",
    "import io\n",
    "import os\n",
    "import json\n",
    "from botorch.models import SingleTaskGP\n",
    "from botorch.fit import fit_gpytorch_mll\n",
    "from gpytorch.mlls import ExactMarginalLogLikelihood\n",
    "import asyncio\n",
    "dtype = torch.float\n",
    "device = torch.device(\"cuda\" if torch.cuda.is_available() else \"cpu\")\n",
    "\n",
    "def x_to_filename(x):\n",
    "    return f'{x[0]}_{x[1]}_{x[2]}_{x[3]}.json'\n",
    "\n",
    "async def evaluate_profile(x):\n",
    "    filename=x_to_filename(x)\n",
    "    display(filename)\n",
    "    if not filename in os.listdir(\"case/results\"):\n",
    "        config=json.dumps({\n",
    "            'p':x[0],\n",
    "            'm':x[1],\n",
    "            't':x[2],\n",
    "            'a':x[3]\n",
    "        })\n",
    "        p=await asyncio.create_subprocess_shell(f'cd case; ./evaluate_airfoil.sh \\'{config}\\'',stdout=asyncio.subprocess.DEVNULL)\n",
    "        await p.wait()\n",
    "        #os.system(f'cd case; ./evaluate_airfoil.sh \\'{config}\\'')\n",
    "    with open(\"case/results/\"+filename) as file:\n",
    "        result=json.load(file)\n",
    "        display(result)\n",
    "        return [result['C_L'],result['C_L']/result['C_D']]\n",
    "\n",
    "await evaluate_profile([0.42,0.05,0.18,11])"
   ]
  },
  {
   "cell_type": "code",
   "execution_count": 2,
   "metadata": {},
   "outputs": [
    {
     "data": {
      "text/plain": [
       "'0.8655616641044617_-0.11298897117376328_0.06051531806588173_33.45952224731445.json'"
      ]
     },
     "metadata": {},
     "output_type": "display_data"
    },
    {
     "data": {
      "text/plain": [
       "'0.1629708707332611_-0.19246254861354828_0.06699815392494202_2.2169487476348877.json'"
      ]
     },
     "metadata": {},
     "output_type": "display_data"
    },
    {
     "data": {
      "text/plain": [
       "'0.8381821513175964_0.18810896575450897_0.10013279318809509_13.680347442626953.json'"
      ]
     },
     "metadata": {},
     "output_type": "display_data"
    },
    {
     "data": {
      "text/plain": [
       "'0.7387102842330933_-0.17652557790279388_0.07220277190208435_15.102472305297852.json'"
      ]
     },
     "metadata": {},
     "output_type": "display_data"
    },
    {
     "data": {
      "text/plain": [
       "'0.5877008438110352_0.059707775712013245_0.18491235375404358_24.791046142578125.json'"
      ]
     },
     "metadata": {},
     "output_type": "display_data"
    },
    {
     "data": {
      "text/plain": [
       "'0.27554646134376526_-0.034876495599746704_0.2402607649564743_25.372297286987305.json'"
      ]
     },
     "metadata": {},
     "output_type": "display_data"
    },
    {
     "name": "stderr",
     "output_type": "stream",
     "text": [
      "The latest version of Julia in the `release` channel is 1.8.4+0.x64.linux.gnu. You currently have `1.8.3+0.x64.linux.gnu` installed. Run:\n",
      "\n",
      "  juliaup update\n",
      "\n",
      "to install Julia 1.8.4+0.x64.linux.gnu and update the `release` channel to that version.\n",
      "The latest version of Julia in the `release` channel is 1.8.4+0.x64.linux.gnu. You currently have `1.8.3+0.x64.linux.gnu` installed. Run:\n",
      "\n",
      "  juliaup update\n",
      "\n",
      "to install Julia 1.8.4+0.x64.linux.gnu and update the `release` channel to that version.\n",
      "The latest version of Julia in the `release` channel is 1.8.4+0.x64.linux.gnu. You currently have `1.8.3+0.x64.linux.gnu` installed. Run:\n",
      "\n",
      "  juliaup update\n",
      "\n",
      "to install Julia 1.8.4+0.x64.linux.gnu and update the `release` channel to that version.\n",
      "The latest version of Julia in the `release` channel is 1.8.4+0.x64.linux.gnu. You currently have `1.8.3+0.x64.linux.gnu` installed. Run:\n",
      "\n",
      "  juliaup update\n",
      "\n",
      "to install Julia 1.8.4+0.x64.linux.gnu and update the `release` channel to that version.\n",
      "The latest version of Julia in the `release` channel is 1.8.4+0.x64.linux.gnu. You currently have `1.8.3+0.x64.linux.gnu` installed. Run:\n",
      "\n",
      "  juliaup update\n",
      "\n",
      "to install Julia 1.8.4+0.x64.linux.gnu and update the `release` channel to that version.\n",
      "The latest version of Julia in the `release` channel is 1.8.4+0.x64.linux.gnu. You currently have `1.8.3+0.x64.linux.gnu` installed. Run:\n",
      "\n",
      "  juliaup update\n",
      "\n",
      "to install Julia 1.8.4+0.x64.linux.gnu and update the `release` channel to that version.\n",
      "Warning : Extrusion of periodic curves is not supported with the built-in kernel\n",
      "Warning : Extrusion of periodic curves is not supported with the built-in kernel\n",
      "Warning : Extrusion of periodic curves is not supported with the built-in kernel\n",
      "Warning : Extrusion of periodic curves is not supported with the built-in kernel\n",
      "Warning : Extrusion of periodic curves is not supported with the built-in kernel\n",
      "Warning : Extrusion of periodic curves is not supported with the built-in kernel\n",
      "/opt/OpenFOAM/OpenFOAM-10/bin/tools/RunFunctions: line 53: 81521 Floating point exception(core dumped) $APP_RUN \"$@\" > log.$LOG_SUFFIX 2>&1\n"
     ]
    },
    {
     "ename": "CancelledError",
     "evalue": "",
     "output_type": "error",
     "traceback": [
      "\u001b[0;31m---------------------------------------------------------------------------\u001b[0m",
      "\u001b[0;31mCancelledError\u001b[0m                            Traceback (most recent call last)",
      "\u001b[0;31mCancelledError\u001b[0m: ",
      "\nDuring handling of the above exception, another exception occurred:\n",
      "\u001b[0;31mCancelledError\u001b[0m                            Traceback (most recent call last)",
      "\u001b[1;32m/home/olep/Documents/software/scientific/MOO_airfoil/BO.ipynb Cell 2\u001b[0m in \u001b[0;36m<cell line: 5>\u001b[0;34m()\u001b[0m\n\u001b[1;32m      <a href='vscode-notebook-cell:/home/olep/Documents/software/scientific/MOO_airfoil/BO.ipynb#W2sZmlsZQ%3D%3D?line=2'>3</a>\u001b[0m \u001b[39mfor\u001b[39;00m d \u001b[39min\u001b[39;00m \u001b[39mrange\u001b[39m(\u001b[39m4\u001b[39m):\n\u001b[1;32m      <a href='vscode-notebook-cell:/home/olep/Documents/software/scientific/MOO_airfoil/BO.ipynb#W2sZmlsZQ%3D%3D?line=3'>4</a>\u001b[0m     initial_X[:,d]\u001b[39m=\u001b[39mx_lims[d][\u001b[39m0\u001b[39m]\u001b[39m+\u001b[39minitial_X[:,d]\u001b[39m*\u001b[39m(x_lims[d][\u001b[39m1\u001b[39m]\u001b[39m-\u001b[39mx_lims[d][\u001b[39m0\u001b[39m])\n\u001b[0;32m----> <a href='vscode-notebook-cell:/home/olep/Documents/software/scientific/MOO_airfoil/BO.ipynb#W2sZmlsZQ%3D%3D?line=4'>5</a>\u001b[0m y\u001b[39m=\u001b[39m\u001b[39mawait\u001b[39;00m asyncio\u001b[39m.\u001b[39mgather(\u001b[39m*\u001b[39m[evaluate_profile(x\u001b[39m.\u001b[39mtolist()) \u001b[39mfor\u001b[39;00m x \u001b[39min\u001b[39;00m initial_X])\n",
      "\u001b[0;31mCancelledError\u001b[0m: "
     ]
    }
   ],
   "source": [
    "x_lims=[(0.1,0.9),(-0.2,0.2),(0.05,0.3),(0.01,35)]\n",
    "initial_X = torch.rand(6,4)\n",
    "for d in range(4):\n",
    "    initial_X[:,d]=x_lims[d][0]+initial_X[:,d]*(x_lims[d][1]-x_lims[d][0])\n",
    "y=await asyncio.gather(*[evaluate_profile(x.tolist()) for x in initial_X])"
   ]
  },
  {
   "cell_type": "code",
   "execution_count": 15,
   "metadata": {},
   "outputs": [
    {
     "name": "stdout",
     "output_type": "stream",
     "text": [
      "tensor([[ 7.2817e-01, -3.4658e-02,  1.3854e-01,  2.5941e+01],\n",
      "        [ 6.9175e-01,  1.1860e-01,  9.8697e-02,  3.2845e+01],\n",
      "        [ 8.0765e-01,  1.5980e-01,  2.4200e-01,  1.9580e+01],\n",
      "        [ 1.6823e-01,  1.7437e-01,  1.7050e-01,  1.6646e+01],\n",
      "        [ 7.1448e-01, -1.7571e-02,  1.1489e-01,  2.4194e+01],\n",
      "        [ 8.5181e-01, -1.8925e-01,  2.2223e-01,  2.6894e+01]])\n",
      "tensor([[ 7.2817e-01, -3.4658e-02,  1.3854e-01,  2.5941e+01],\n",
      "        [ 6.9175e-01,  1.1860e-01,  9.8697e-02,  3.2845e+01],\n",
      "        [ 8.0765e-01,  1.5980e-01,  2.4200e-01,  1.9580e+01],\n",
      "        [ 1.6823e-01,  1.7437e-01,  1.7050e-01,  1.6646e+01],\n",
      "        [ 7.1448e-01, -1.7571e-02,  1.1489e-01,  2.4194e+01],\n",
      "        [ 8.5181e-01, -1.8925e-01,  2.2223e-01,  2.6894e+01]])\n",
      "tensor([[-0.2845],\n",
      "        [-1.4803],\n",
      "        [ 0.8303],\n",
      "        [ 1.3566],\n",
      "        [ 0.0223],\n",
      "        [-0.4443]])\n"
     ]
    },
    {
     "name": "stderr",
     "output_type": "stream",
     "text": [
      "/home/olep/.local/lib/python3.10/site-packages/botorch/models/gpytorch.py:113: UserWarning: The model inputs are of type torch.float32. It is strongly recommended to use double precision in BoTorch, as this improves both precision and stability and can help avoid numerical errors. See https://github.com/pytorch/botorch/discussions/1444\n",
      "  warnings.warn(\n"
     ]
    },
    {
     "ename": "RuntimeError",
     "evalue": "Sizes of tensors must match except in dimension 0. Expected size 4 but got size 2 for tensor number 1 in the list.",
     "output_type": "error",
     "traceback": [
      "\u001b[0;31m---------------------------------------------------------------------------\u001b[0m",
      "\u001b[0;31mRuntimeError\u001b[0m                              Traceback (most recent call last)",
      "\u001b[1;32m/home/olep/Documents/software/scientific/MOO_airfoil/BO.ipynb Cell 2\u001b[0m in \u001b[0;36m<cell line: 16>\u001b[0;34m()\u001b[0m\n\u001b[1;32m     <a href='vscode-notebook-cell:/home/olep/Documents/software/scientific/MOO_airfoil/BO.ipynb#W1sZmlsZQ%3D%3D?line=13'>14</a>\u001b[0m fit_gpytorch_mll(mll)\n\u001b[1;32m     <a href='vscode-notebook-cell:/home/olep/Documents/software/scientific/MOO_airfoil/BO.ipynb#W1sZmlsZQ%3D%3D?line=14'>15</a>\u001b[0m test_X\u001b[39m=\u001b[39mtorch\u001b[39m.\u001b[39mrand(\u001b[39m1\u001b[39m,\u001b[39m2\u001b[39m)\n\u001b[0;32m---> <a href='vscode-notebook-cell:/home/olep/Documents/software/scientific/MOO_airfoil/BO.ipynb#W1sZmlsZQ%3D%3D?line=15'>16</a>\u001b[0m \u001b[39mprint\u001b[39m(test_X,\u001b[39m\"\u001b[39m\u001b[39m: \u001b[39m\u001b[39m\"\u001b[39m,gp\u001b[39m.\u001b[39;49mposterior(test_X)\u001b[39m.\u001b[39mmean)\n\u001b[1;32m     <a href='vscode-notebook-cell:/home/olep/Documents/software/scientific/MOO_airfoil/BO.ipynb#W1sZmlsZQ%3D%3D?line=16'>17</a>\u001b[0m \u001b[39mfrom\u001b[39;00m \u001b[39mbotorch\u001b[39;00m\u001b[39m.\u001b[39;00m\u001b[39macquisition\u001b[39;00m \u001b[39mimport\u001b[39;00m UpperConfidenceBound\n\u001b[1;32m     <a href='vscode-notebook-cell:/home/olep/Documents/software/scientific/MOO_airfoil/BO.ipynb#W1sZmlsZQ%3D%3D?line=18'>19</a>\u001b[0m UCB \u001b[39m=\u001b[39m UpperConfidenceBound(gp, beta\u001b[39m=\u001b[39m\u001b[39m0.1\u001b[39m)\n",
      "File \u001b[0;32m~/.local/lib/python3.10/site-packages/botorch/models/gpytorch.py:363\u001b[0m, in \u001b[0;36mBatchedMultiOutputGPyTorchModel.posterior\u001b[0;34m(self, X, output_indices, observation_noise, posterior_transform, **kwargs)\u001b[0m\n\u001b[1;32m    359\u001b[0m \u001b[39mif\u001b[39;00m \u001b[39mself\u001b[39m\u001b[39m.\u001b[39m_num_outputs \u001b[39m>\u001b[39m \u001b[39m1\u001b[39m:\n\u001b[1;32m    360\u001b[0m     X, output_dim_idx \u001b[39m=\u001b[39m add_output_dim(\n\u001b[1;32m    361\u001b[0m         X\u001b[39m=\u001b[39mX, original_batch_shape\u001b[39m=\u001b[39m\u001b[39mself\u001b[39m\u001b[39m.\u001b[39m_input_batch_shape\n\u001b[1;32m    362\u001b[0m     )\n\u001b[0;32m--> 363\u001b[0m mvn \u001b[39m=\u001b[39m \u001b[39mself\u001b[39;49m(X)\n\u001b[1;32m    364\u001b[0m \u001b[39mif\u001b[39;00m observation_noise \u001b[39mis\u001b[39;00m \u001b[39mnot\u001b[39;00m \u001b[39mFalse\u001b[39;00m:\n\u001b[1;32m    365\u001b[0m     \u001b[39mif\u001b[39;00m torch\u001b[39m.\u001b[39mis_tensor(observation_noise):\n\u001b[1;32m    366\u001b[0m         \u001b[39m# TODO: Validate noise shape\u001b[39;00m\n\u001b[1;32m    367\u001b[0m         \u001b[39m# make observation_noise `batch_shape x q x n`\u001b[39;00m\n",
      "File \u001b[0;32m~/.local/lib/python3.10/site-packages/gpytorch/models/exact_gp.py:303\u001b[0m, in \u001b[0;36mExactGP.__call__\u001b[0;34m(self, *args, **kwargs)\u001b[0m\n\u001b[1;32m    301\u001b[0m         train_input \u001b[39m=\u001b[39m train_input\u001b[39m.\u001b[39mexpand(\u001b[39m*\u001b[39mbatch_shape, \u001b[39m*\u001b[39mtrain_input\u001b[39m.\u001b[39mshape[\u001b[39m-\u001b[39m\u001b[39m2\u001b[39m:])\n\u001b[1;32m    302\u001b[0m         \u001b[39minput\u001b[39m \u001b[39m=\u001b[39m \u001b[39minput\u001b[39m\u001b[39m.\u001b[39mexpand(\u001b[39m*\u001b[39mbatch_shape, \u001b[39m*\u001b[39m\u001b[39minput\u001b[39m\u001b[39m.\u001b[39mshape[\u001b[39m-\u001b[39m\u001b[39m2\u001b[39m:])\n\u001b[0;32m--> 303\u001b[0m     full_inputs\u001b[39m.\u001b[39mappend(torch\u001b[39m.\u001b[39;49mcat([train_input, \u001b[39minput\u001b[39;49m], dim\u001b[39m=\u001b[39;49m\u001b[39m-\u001b[39;49m\u001b[39m2\u001b[39;49m))\n\u001b[1;32m    305\u001b[0m \u001b[39m# Get the joint distribution for training/test data\u001b[39;00m\n\u001b[1;32m    306\u001b[0m full_output \u001b[39m=\u001b[39m \u001b[39msuper\u001b[39m(ExactGP, \u001b[39mself\u001b[39m)\u001b[39m.\u001b[39m\u001b[39m__call__\u001b[39m(\u001b[39m*\u001b[39mfull_inputs, \u001b[39m*\u001b[39m\u001b[39m*\u001b[39mkwargs)\n",
      "\u001b[0;31mRuntimeError\u001b[0m: Sizes of tensors must match except in dimension 0. Expected size 4 but got size 2 for tensor number 1 in the list."
     ]
    }
   ],
   "source": [
    "\n",
    "train_X=initial_X\n",
    "print(train_X)\n",
    "Y = 1 - (train_X - 0.5).norm(dim=-1, keepdim=True)  # explicit output dimension\n",
    "Y += 0.1 * torch.rand_like(Y)\n",
    "train_Y = (Y - Y.mean()) / Y.std()\n",
    "print(train_X)\n",
    "print(train_Y)\n",
    "\n",
    "gp = SingleTaskGP(train_X, train_Y)\n",
    "mll = ExactMarginalLogLikelihood(gp.likelihood, gp)\n",
    "fit_gpytorch_mll(mll)\n",
    "test_X=torch.rand(1,2)\n",
    "print(test_X,\": \",gp.posterior(test_X).mean)\n",
    "from botorch.acquisition import UpperConfidenceBound\n",
    "\n",
    "UCB = UpperConfidenceBound(gp, beta=0.1)\n",
    "from botorch.optim import optimize_acqf\n",
    "\n",
    "bounds = torch.stack([torch.zeros(2), torch.ones(2)])\n",
    "candidate, acq_value = optimize_acqf(\n",
    "    UCB, bounds=bounds, q=1, num_restarts=5, raw_samples=20,\n",
    ")"
   ]
  }
 ],
 "metadata": {
  "kernelspec": {
   "display_name": "Python 3",
   "language": "python",
   "name": "python3"
  },
  "language_info": {
   "codemirror_mode": {
    "name": "ipython",
    "version": 3
   },
   "file_extension": ".py",
   "mimetype": "text/x-python",
   "name": "python",
   "nbconvert_exporter": "python",
   "pygments_lexer": "ipython3",
   "version": "3.10.8"
  },
  "orig_nbformat": 4,
  "vscode": {
   "interpreter": {
    "hash": "e7370f93d1d0cde622a1f8e1c04877d8463912d04d973331ad4851f04de6915a"
   }
  }
 },
 "nbformat": 4,
 "nbformat_minor": 2
}

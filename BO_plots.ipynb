{
 "cells": [
  {
   "cell_type": "code",
   "execution_count": 14,
   "metadata": {},
   "outputs": [],
   "source": [
    "import torch\n",
    "import io\n",
    "import os\n",
    "from math import log\n",
    "import torch\n",
    "from torch import tensor\n",
    "import json\n",
    "from botorch.models import SingleTaskGP, FixedNoiseGP\n",
    "from botorch.fit import fit_gpytorch_mll\n",
    "from botorch.acquisition.multi_objective import ExpectedHypervolumeImprovement\n",
    "from gpytorch.mlls import ExactMarginalLogLikelihood\n",
    "import asyncio\n",
    "dtype = torch.float64\n",
    "device = torch.device(\"cuda\" if torch.cuda.is_available() else \"cpu\")\n",
    "\n",
    "def x_to_filename(x):\n",
    "    return f'{x[0]}_{x[1]}_{x[2]}_{x[3]}.json'\n",
    "\n",
    "def filename_to_x(filename):\n",
    "    return [float(x) for x in filename[:-5].split('_')]\n",
    "\n",
    "NUM_CORES=14\n",
    "running_tasks={}\n",
    "async def wait_for_core_to_be_available():\n",
    "    while len(running_tasks)>NUM_CORES:\n",
    "        await asyncio.sleep(1.0)\n",
    "\n",
    "async def evaluate_profile(x):\n",
    "    await wait_for_core_to_be_available()\n",
    "    filename=x_to_filename(x)\n",
    "    running_tasks[filename]=True\n",
    "    #display(filename)\n",
    "    existing_result_files=os.listdir(\"case/results\")\n",
    "    existing_results_x=[filename_to_x(filename) for filename in existing_result_files]\n",
    "    distances=[torch.dist(torch.tensor(x),torch.tensor(existing_x)).item() for existing_x in existing_results_x]\n",
    "    #display(distances)\n",
    "    if len(distances)==0 or min(distances)>0.001:\n",
    "        config=json.dumps({\n",
    "            'p':x[0],\n",
    "            'm':x[1],\n",
    "            't':x[2],\n",
    "            'a':x[3]\n",
    "        })\n",
    "        p=await asyncio.create_subprocess_shell(f'cd case; ./evaluate_airfoil.sh \\'{config}\\'',stdout=asyncio.subprocess.PIPE)\n",
    "        await p.wait()\n",
    "        #os.system(f'cd case; ./evaluate_airfoil.sh \\'{config}\\'')\n",
    "    existing_result_files=os.listdir(\"case/results\")\n",
    "    existing_results_x=[filename_to_x(filename) for filename in existing_result_files]\n",
    "    distances=[torch.dist(torch.tensor(x),torch.tensor(existing_x)).item() for existing_x in existing_results_x]\n",
    "    min_distance_index=distances.index(min(distances))\n",
    "    with open(\"case/results/\"+existing_result_files[min_distance_index]) as file:\n",
    "        result=json.load(file)\n",
    "        #display(result)\n",
    "        running_tasks.pop(filename)\n",
    "        return [result['C_L'],-log(max(result['C_D'],1e-3))]\n",
    "\n"
   ]
  },
  {
   "cell_type": "code",
   "execution_count": 15,
   "metadata": {},
   "outputs": [],
   "source": [
    "\n",
    "train_Y=tensor([[ 2.5682, -0.1000],\n",
    "        [ 2.0647, -0.2619],\n",
    "        [ 0.8586, -0.3635],\n",
    "        [-0.1484, -0.5712],\n",
    "        [ 0.1847, -0.2351],\n",
    "        [ 2.6430, -0.0745],\n",
    "        [ 2.0525, -0.1163],\n",
    "        [ 0.6526, -0.3782],\n",
    "        [ 0.2102, -0.7816],\n",
    "        [-0.3878, -0.7461],\n",
    "        [ 1.5345, -0.2404],\n",
    "        [ 1.9892, -0.1187],\n",
    "        [-0.3236, -0.1533],\n",
    "        [ 0.4294, -0.3404],\n",
    "        [ 0.4834, -0.2573],\n",
    "        [ 2.3373, -0.0715],\n",
    "        [ 0.6749, -0.2269],\n",
    "        [-0.9758, -0.3770],\n",
    "        [ 0.5953, -0.1955],\n",
    "        [ 1.0729, -0.1619],\n",
    "        [ 1.9164, -0.1899],\n",
    "        [ 2.5516, -0.0683],\n",
    "        [-0.2328, -0.3449],\n",
    "        [ 2.0594, -0.0828],\n",
    "        [ 0.8026, -0.2346],\n",
    "        [ 1.9782, -0.2079],\n",
    "        [ 1.7411, -0.2242],\n",
    "        [-0.6203, -0.4925],\n",
    "        [-0.0880, -0.4709],\n",
    "        [ 1.0294, -0.5481],\n",
    "        [-0.8890, -0.1470],\n",
    "        [ 1.4512, -0.3181],\n",
    "        [ 0.4131, -0.6159],\n",
    "        [-0.1686, -0.5047],\n",
    "        [ 0.6094, -0.1095],\n",
    "        [ 2.4007, -0.2412],\n",
    "        [ 0.8611, -0.3514],\n",
    "        [ 1.0458, -0.3757],\n",
    "        [ 1.5283, -0.2352],\n",
    "        [ 0.8043, -0.6279],\n",
    "        [ 2.5720, -0.0803],\n",
    "        [ 2.5579, -0.1087],\n",
    "        [ 2.7006, -0.0298],\n",
    "        [ 2.7038, -0.0175],\n",
    "        [ 2.5011, -0.0595],\n",
    "        [ 2.5347, -0.1359],\n",
    "        [ 2.6557, -0.0455],\n",
    "        [ 2.6776, -0.0620],\n",
    "        [ 2.4428, -0.0861],\n",
    "        [ 2.7103, -0.0326]], dtype=torch.float64)\n",
    "train_Y_log=tensor([[ 0.1674,  0.2564],\n",
    "        [ 0.7936,  1.4822],\n",
    "        [ 0.3221,  0.2812],\n",
    "        [ 1.9782,  1.5708],\n",
    "        [ 2.5682,  2.3028],\n",
    "        [-0.0068, -0.0076],\n",
    "        [ 2.5632,  2.7421],\n",
    "        [ 1.8880,  1.8210],\n",
    "        [ 1.1445,  2.1617],\n",
    "        [ 0.2357,  1.5106],\n",
    "        [-0.1413,  1.6523],\n",
    "        [ 0.1847,  1.4477],\n",
    "        [-0.4437,  0.2331],\n",
    "        [-0.0587,  1.3783],\n",
    "        [ 2.3373,  2.6377],\n",
    "        [-0.6203,  0.7083],\n",
    "        [-0.9963,  0.9493],\n",
    "        [ 1.9164,  1.6613],\n",
    "        [ 0.9866,  2.1796],\n",
    "        [ 1.0294,  0.6014],\n",
    "        [ 1.9108,  1.8137],\n",
    "        [ 2.1724,  1.9516],\n",
    "        [ 0.4294,  1.0776],\n",
    "        [ 1.6101,  1.3918],\n",
    "        [ 0.6749,  1.4832],\n",
    "        [ 0.0243,  0.3156],\n",
    "        [ 0.5701,  0.3651],\n",
    "        [ 0.0447,  0.1697],\n",
    "        [ 2.4744,  2.7713],\n",
    "        [ 2.3167,  2.9390],\n",
    "        [ 0.6315,  0.6008],\n",
    "        [ 1.0458,  0.9788],\n",
    "        [ 1.0729,  1.8208],\n",
    "        [ 2.5529,  3.1740],\n",
    "        [-0.3141,  0.9254],\n",
    "        [ 0.6094,  2.2121],\n",
    "        [-0.9758,  0.9755],\n",
    "        [ 1.4512,  1.1454],\n",
    "        [ 1.4377,  1.6688],\n",
    "        [ 1.8186,  1.2679],\n",
    "        [ 1.9892,  2.1312],\n",
    "        [ 1.7804,  1.8980],\n",
    "        [ 0.5953,  1.6324],\n",
    "        [-0.0823, -0.0697],\n",
    "        [ 1.8232,  1.5105],\n",
    "        [ 1.9870,  1.6254],\n",
    "        [ 0.2102,  0.2464],\n",
    "        [ 0.7149,  0.5244],\n",
    "        [ 2.0117,  1.5005],\n",
    "        [-0.1437,  0.0167],\n",
    "        [ 2.4642,  2.8047],\n",
    "        [ 2.4348,  1.9983],\n",
    "        [ 2.5593,  2.9972],\n",
    "        [ 2.6102,  2.5698],\n",
    "        [ 2.4577,  2.1441],\n",
    "        [ 2.5135,  2.4941],\n",
    "        [ 2.4884,  3.5005],\n",
    "        [ 2.5272,  2.1940],\n",
    "        [ 2.7007,  3.0705],\n",
    "        [ 2.5183,  3.6546],\n",
    "        [2.66843, 4.141624866803403],\n",
    "        [2.67203, 3.762569052259808],\n",
    "        [2.7295, 3.9538455002819846]], dtype=torch.float64)"
   ]
  },
  {
   "cell_type": "code",
   "execution_count": 16,
   "metadata": {},
   "outputs": [
    {
     "data": {
      "image/png": "[encoded data removed]",
      "text/plain": [
       "<Figure size 432x288 with 1 Axes>"
      ]
     },
     "metadata": {
      "needs_background": "light"
     },
     "output_type": "display_data"
    }
   ],
   "source": [
    "import plotting\n",
    "plotting.plot_population(train_Y,10)"
   ]
  },
  {
   "cell_type": "code",
   "execution_count": 17,
   "metadata": {},
   "outputs": [
    {
     "data": {
      "image/png": "[encoded data removed]",
      "text/plain": [
       "<Figure size 432x288 with 1 Axes>"
      ]
     },
     "metadata": {
      "needs_background": "light"
     },
     "output_type": "display_data"
    }
   ],
   "source": [
    "\n",
    "plotting.plot_population(train_Y_log,13)"
   ]
  }
 ],
 "metadata": {
  "kernelspec": {
   "display_name": "Python 3",
   "language": "python",
   "name": "python3"
  },
  "language_info": {
   "codemirror_mode": {
    "name": "ipython",
    "version": 3
   },
   "file_extension": ".py",
   "mimetype": "text/x-python",
   "name": "python",
   "nbconvert_exporter": "python",
   "pygments_lexer": "ipython3",
   "version": "3.10.8"
  },
  "orig_nbformat": 4,
  "vscode": {
   "interpreter": {
    "hash": "e7370f93d1d0cde622a1f8e1c04877d8463912d04d973331ad4851f04de6915a"
   }
  }
 },
 "nbformat": 4,
 "nbformat_minor": 2
}
